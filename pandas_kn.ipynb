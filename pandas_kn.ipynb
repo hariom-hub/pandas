{
 "cells": [
  {
   "cell_type": "code",
   "execution_count": 3,
   "id": "fa305ca5-4e52-4022-984b-875826db3773",
   "metadata": {},
   "outputs": [],
   "source": [
    "import numpy as np\n",
    "import pandas as pd"
   ]
  },
  {
   "cell_type": "code",
   "execution_count": 3,
   "id": "4b275b98-cdb7-4eb8-9b5c-2f885af54c0f",
   "metadata": {},
   "outputs": [
    {
     "name": "stdout",
     "output_type": "stream",
     "text": [
      "[[ 0  1  2  3]\n",
      " [ 4  5  6  7]\n",
      " [ 8  9 10 11]\n",
      " [12 13 14 15]\n",
      " [16 17 18 19]]\n"
     ]
    }
   ],
   "source": [
    "array = np.arange(0,20).reshape((5,4))\n",
    "print(array)"
   ]
  },
  {
   "cell_type": "code",
   "execution_count": 9,
   "id": "3b9df8b1-891c-46e3-af66-e6b8e809fb2a",
   "metadata": {},
   "outputs": [
    {
     "name": "stdout",
     "output_type": "stream",
     "text": [
      "      col1  col2  col3  col4\n",
      "row1     0     1     2     3\n",
      "row2     4     5     6     7\n",
      "row3     8     9    10    11\n",
      "row4    12    13    14    15\n",
      "row5    16    17    18    19\n"
     ]
    }
   ],
   "source": [
    "data = pd.DataFrame(array,index=[\"row1\",\"row2\",\"row3\",\"row4\",\"row5\"],columns=[\"col1\",\"col2\",\"col3\",\"col4\"])\n",
    "print(data)\n"
   ]
  },
  {
   "cell_type": "code",
   "execution_count": 10,
   "id": "4041c0eb-050f-45c2-949d-3690cb8c2a98",
   "metadata": {},
   "outputs": [
    {
     "name": "stdout",
     "output_type": "stream",
     "text": [
      "      col1  col2  col3  col4\n",
      "row1     0     1     2     3\n",
      "row2     4     5     6     7\n",
      "row3     8     9    10    11\n",
      "row4    12    13    14    15\n",
      "row5    16    17    18    19\n"
     ]
    }
   ],
   "source": [
    "print(data.head())"
   ]
  },
  {
   "cell_type": "code",
   "execution_count": 13,
   "id": "0d94fae8-e9a4-476e-82e5-4d6aed6707c2",
   "metadata": {},
   "outputs": [
    {
     "name": "stdout",
     "output_type": "stream",
     "text": [
      "      col1  col2  col3  col4\n",
      "row1     0     1     2     3\n",
      "row2     4     5     6     7\n",
      "row3     8     9    10    11\n",
      "row4    12    13    14    15\n",
      "row5    16    17    18    19\n"
     ]
    }
   ],
   "source": [
    "print(data.tail())"
   ]
  },
  {
   "cell_type": "raw",
   "id": "595ee284-0f27-4dbd-9643-f139d086a66b",
   "metadata": {},
   "source": []
  },
  {
   "cell_type": "code",
   "execution_count": 14,
   "id": "9140aea7-0452-481b-8519-4f52b53ef4bd",
   "metadata": {},
   "outputs": [
    {
     "data": {
      "text/plain": [
       "pandas.core.frame.DataFrame"
      ]
     },
     "execution_count": 14,
     "metadata": {},
     "output_type": "execute_result"
    }
   ],
   "source": [
    "type(data)"
   ]
  },
  {
   "cell_type": "code",
   "execution_count": 15,
   "id": "f4778ce6-844b-443c-9644-44bacbd0a6d8",
   "metadata": {},
   "outputs": [
    {
     "name": "stdout",
     "output_type": "stream",
     "text": [
      "<class 'pandas.core.frame.DataFrame'>\n",
      "Index: 5 entries, row1 to row5\n",
      "Data columns (total 4 columns):\n",
      " #   Column  Non-Null Count  Dtype\n",
      "---  ------  --------------  -----\n",
      " 0   col1    5 non-null      int64\n",
      " 1   col2    5 non-null      int64\n",
      " 2   col3    5 non-null      int64\n",
      " 3   col4    5 non-null      int64\n",
      "dtypes: int64(4)\n",
      "memory usage: 200.0+ bytes\n"
     ]
    }
   ],
   "source": [
    "data.info()"
   ]
  },
  {
   "cell_type": "code",
   "execution_count": 16,
   "id": "043f722e-17cd-43d0-bc58-97e13a89ce52",
   "metadata": {},
   "outputs": [
    {
     "name": "stdout",
     "output_type": "stream",
     "text": [
      "            col1       col2       col3       col4\n",
      "count   5.000000   5.000000   5.000000   5.000000\n",
      "mean    8.000000   9.000000  10.000000  11.000000\n",
      "std     6.324555   6.324555   6.324555   6.324555\n",
      "min     0.000000   1.000000   2.000000   3.000000\n",
      "25%     4.000000   5.000000   6.000000   7.000000\n",
      "50%     8.000000   9.000000  10.000000  11.000000\n",
      "75%    12.000000  13.000000  14.000000  15.000000\n",
      "max    16.000000  17.000000  18.000000  19.000000\n"
     ]
    }
   ],
   "source": [
    "print(data.describe())"
   ]
  },
  {
   "cell_type": "code",
   "execution_count": 5,
   "id": "813fef70-7ac4-4338-a185-f0fbca13b757",
   "metadata": {},
   "outputs": [
    {
     "name": "stdout",
     "output_type": "stream",
     "text": [
      "Empty DataFrame\n",
      "Columns: []\n",
      "Index: []\n"
     ]
    }
   ],
   "source": [
    "print(pd.DataFrame())"
   ]
  },
  {
   "cell_type": "code",
   "execution_count": 6,
   "id": "835359f5-679f-4c9c-9245-7c0d828141c7",
   "metadata": {},
   "outputs": [],
   "source": [
    "arr2 = np.arange(20,200,20)"
   ]
  },
  {
   "cell_type": "code",
   "execution_count": 7,
   "id": "3a11e633-c714-45aa-843f-3636563fc83e",
   "metadata": {},
   "outputs": [
    {
     "name": "stdout",
     "output_type": "stream",
     "text": [
      "[ 20  40  60  80 100 120 140 160 180]\n"
     ]
    }
   ],
   "source": [
    "print(arr2)"
   ]
  },
  {
   "cell_type": "code",
   "execution_count": 9,
   "id": "be25d772-3a07-45de-9e1f-5eb4f420662d",
   "metadata": {},
   "outputs": [
    {
     "name": "stdout",
     "output_type": "stream",
     "text": [
      "[[ 20  40  60]\n",
      " [ 80 100 120]\n",
      " [140 160 180]]\n"
     ]
    }
   ],
   "source": [
    "arr2 = arr2.reshape((3,3))\n",
    "print(arr2)"
   ]
  },
  {
   "cell_type": "code",
   "execution_count": 12,
   "id": "fb4a8312-7dc6-4540-9556-4af0fc38d907",
   "metadata": {},
   "outputs": [
    {
     "name": "stdout",
     "output_type": "stream",
     "text": [
      "      Column1  Column2  Column3\n",
      "Row1       20       40       60\n",
      "Row2       80      100      120\n",
      "Row3      140      160      180\n"
     ]
    }
   ],
   "source": [
    "#let's form a data frame from arr2\n",
    "df2 = pd.DataFrame(arr2,index=[\"Row1\",\"Row2\",\"Row3\"],columns=[\"Column1\",\"Column2\",\"Column3\"])\n",
    "print(df2)"
   ]
  },
  {
   "cell_type": "code",
   "execution_count": 14,
   "id": "2865b1fb-ed20-4abe-9091-c53a83f1aaf8",
   "metadata": {},
   "outputs": [
    {
     "name": "stdout",
     "output_type": "stream",
     "text": [
      "[240 300 360]\n",
      "[120 300 480]\n"
     ]
    }
   ],
   "source": [
    "print(arr2.sum(axis=0))\n",
    "print(arr2.sum(axis=1))"
   ]
  },
  {
   "cell_type": "code",
   "execution_count": 16,
   "id": "194cd9db-30a2-4deb-bdd9-fa2d367e7dfd",
   "metadata": {},
   "outputs": [
    {
     "name": "stdout",
     "output_type": "stream",
     "text": [
      "      Column1  Column2  Column3\n",
      "Row1       20       40       60\n",
      "Row2       80      100      120\n",
      "Row3      140      160      180\n"
     ]
    }
   ],
   "source": [
    "print(df2)"
   ]
  },
  {
   "cell_type": "code",
   "execution_count": 21,
   "id": "8e13016d-cf34-463b-b353-da246132e1bf",
   "metadata": {},
   "outputs": [
    {
     "name": "stdout",
     "output_type": "stream",
     "text": [
      "      Column1  Column2\n",
      "Row1       20       40\n",
      "Row2       80      100\n",
      "Row3      140      160\n"
     ]
    }
   ],
   "source": [
    "print(df2[[\"Column1\",\"Column2\",]])"
   ]
  },
  {
   "cell_type": "code",
   "execution_count": 22,
   "id": "9fc8930e-d7b4-4a29-bf9b-66d31d1301b3",
   "metadata": {},
   "outputs": [
    {
     "name": "stdout",
     "output_type": "stream",
     "text": [
      "      Column1\n",
      "Row1       20\n",
      "Row2       80\n",
      "Row3      140\n"
     ]
    }
   ],
   "source": [
    "print(df2[[\"Column1\"]])"
   ]
  },
  {
   "cell_type": "code",
   "execution_count": 24,
   "id": "1435046a-f349-4fe6-ad8f-e2ccc341dcc9",
   "metadata": {},
   "outputs": [
    {
     "name": "stdout",
     "output_type": "stream",
     "text": [
      "Row1     20\n",
      "Row2     80\n",
      "Row3    140\n",
      "Name: Column1, dtype: int64\n",
      "None\n"
     ]
    }
   ],
   "source": [
    "print(print(df2['Column1']))"
   ]
  },
  {
   "cell_type": "code",
   "execution_count": 25,
   "id": "3973f886-d833-4c23-a154-8d105bf8a41e",
   "metadata": {},
   "outputs": [
    {
     "name": "stdout",
     "output_type": "stream",
     "text": [
      "<class 'pandas.core.series.Series'>\n"
     ]
    }
   ],
   "source": [
    "print(type(df2['Column1']))"
   ]
  },
  {
   "cell_type": "code",
   "execution_count": 27,
   "id": "64f2a14a-38cc-49e3-a889-437a4c17bff8",
   "metadata": {},
   "outputs": [
    {
     "name": "stdout",
     "output_type": "stream",
     "text": [
      "      Column1  Column2  Column3\n",
      "Row1       20       40       60\n",
      "Row2       80      100      120\n"
     ]
    }
   ],
   "source": [
    "#using row index name (loc)\n",
    "print(df2.loc[[\"Row1\",\"Row2\"]])"
   ]
  },
  {
   "cell_type": "code",
   "execution_count": 28,
   "id": "ee0da125-db03-4345-9d8f-d1a86a4c776e",
   "metadata": {},
   "outputs": [
    {
     "name": "stdout",
     "output_type": "stream",
     "text": [
      "      Column1  Column2  Column3\n",
      "Row1       20       40       60\n",
      "Row2       80      100      120\n",
      "Row3      140      160      180\n"
     ]
    }
   ],
   "source": [
    "print(df2)"
   ]
  },
  {
   "cell_type": "code",
   "execution_count": 29,
   "id": "4d348133-94ac-499b-9299-2eea931657db",
   "metadata": {},
   "outputs": [
    {
     "name": "stdout",
     "output_type": "stream",
     "text": [
      "      Column1  Column2\n",
      "Row1       20       40\n",
      "Row2       80      100\n"
     ]
    }
   ],
   "source": [
    "print(df2.iloc[0:2,0:2])"
   ]
  },
  {
   "cell_type": "code",
   "execution_count": 30,
   "id": "ef85381a-3c3c-4002-b721-1ebf73ce9bf8",
   "metadata": {},
   "outputs": [
    {
     "name": "stdout",
     "output_type": "stream",
     "text": [
      "[[ 20  40  60]\n",
      " [ 80 100 120]\n",
      " [140 160 180]]\n"
     ]
    }
   ],
   "source": [
    "print(arr2)"
   ]
  },
  {
   "cell_type": "code",
   "execution_count": 35,
   "id": "d293ae5f-cd51-4cb7-be93-ad4b5f09b666",
   "metadata": {},
   "outputs": [
    {
     "name": "stdout",
     "output_type": "stream",
     "text": [
      "2.2.3\n"
     ]
    }
   ],
   "source": [
    "print(pd.__version__)"
   ]
  },
  {
   "cell_type": "code",
   "execution_count": 36,
   "id": "2ef3b09b-3061-4ae7-bd55-32835c45b33f",
   "metadata": {},
   "outputs": [
    {
     "name": "stdout",
     "output_type": "stream",
     "text": [
      "      Column1  Column2  Column3\n",
      "Row1       20       40       60\n",
      "Row2       80      100      120\n",
      "Row3      140      160      180\n"
     ]
    }
   ],
   "source": [
    "print(df2)"
   ]
  },
  {
   "cell_type": "code",
   "execution_count": 37,
   "id": "c16fc1cb-008b-4b8b-898a-196d106b3688",
   "metadata": {},
   "outputs": [],
   "source": [
    "df2.loc[4] = [200,220,240]"
   ]
  },
  {
   "cell_type": "code",
   "execution_count": 38,
   "id": "1f6f41c1-76d4-4f1d-86ee-ad84a9a7e584",
   "metadata": {},
   "outputs": [
    {
     "name": "stdout",
     "output_type": "stream",
     "text": [
      "      Column1  Column2  Column3\n",
      "Row1       20       40       60\n",
      "Row2       80      100      120\n",
      "Row3      140      160      180\n",
      "4         200      220      240\n"
     ]
    }
   ],
   "source": [
    "print(df2)"
   ]
  },
  {
   "cell_type": "code",
   "execution_count": 39,
   "id": "852adb4a-7418-4744-ad26-cf8bc0e340e3",
   "metadata": {},
   "outputs": [],
   "source": [
    "df2.loc[\"Row4\"] = [200,220,240]"
   ]
  },
  {
   "cell_type": "code",
   "execution_count": 40,
   "id": "d5a6779e-f348-4413-8727-6668226ec7a6",
   "metadata": {},
   "outputs": [
    {
     "name": "stdout",
     "output_type": "stream",
     "text": [
      "      Column1  Column2  Column3\n",
      "Row1       20       40       60\n",
      "Row2       80      100      120\n",
      "Row3      140      160      180\n",
      "4         200      220      240\n",
      "Row4      200      220      240\n"
     ]
    }
   ],
   "source": [
    "print(df2)"
   ]
  },
  {
   "cell_type": "code",
   "execution_count": 41,
   "id": "e45e8991-e566-4c9a-ac30-47bd80d7648e",
   "metadata": {},
   "outputs": [],
   "source": [
    "df2 = df2.drop(4)"
   ]
  },
  {
   "cell_type": "code",
   "execution_count": 42,
   "id": "54d9ce3e-2e48-494b-bff9-327735761c4e",
   "metadata": {},
   "outputs": [
    {
     "name": "stdout",
     "output_type": "stream",
     "text": [
      "      Column1  Column2  Column3\n",
      "Row1       20       40       60\n",
      "Row2       80      100      120\n",
      "Row3      140      160      180\n",
      "Row4      200      220      240\n"
     ]
    }
   ],
   "source": [
    "print(df2)"
   ]
  },
  {
   "cell_type": "code",
   "execution_count": 62,
   "id": "36242362-3e2b-4eaa-9f57-ea63faaeab26",
   "metadata": {},
   "outputs": [
    {
     "name": "stdout",
     "output_type": "stream",
     "text": [
      "      Column1\n",
      "Row1       20\n",
      "Row2       80\n",
      "Row3      140\n",
      "Row4      200\n",
      "      Column3\n",
      "Row1       60\n",
      "Row2      120\n",
      "Row3      180\n",
      "Row4      240\n"
     ]
    },
    {
     "data": {
      "text/plain": [
       "(None, None)"
      ]
     },
     "execution_count": 62,
     "metadata": {},
     "output_type": "execute_result"
    }
   ],
   "source": [
    "print(df2.iloc[0:4,0:1]),print(df2.iloc[0:4,2:4])"
   ]
  },
  {
   "cell_type": "code",
   "execution_count": 70,
   "id": "bc90c5bb-0828-4d06-b661-fbbdce0b4b3b",
   "metadata": {},
   "outputs": [
    {
     "name": "stdout",
     "output_type": "stream",
     "text": [
      "      Column1  Column3\n",
      "Row1       20       60\n",
      "Row2       80      120\n",
      "Row3      140      180\n",
      "Row4      200      240\n"
     ]
    }
   ],
   "source": [
    "print(df2[[\"Column1\",\"Column3\"]])"
   ]
  },
  {
   "cell_type": "code",
   "execution_count": 71,
   "id": "ffa92215-a333-4610-ad09-c5be72aa76a8",
   "metadata": {},
   "outputs": [
    {
     "name": "stdout",
     "output_type": "stream",
     "text": [
      "[[ 20  40  60]\n",
      " [ 80 100 120]\n",
      " [140 160 180]\n",
      " [200 220 240]]\n"
     ]
    }
   ],
   "source": [
    "print(df2.values)"
   ]
  },
  {
   "cell_type": "code",
   "execution_count": 72,
   "id": "28c78e7b-9d07-4993-b9d5-eb7766e0eceb",
   "metadata": {},
   "outputs": [
    {
     "name": "stdout",
     "output_type": "stream",
     "text": [
      "      Column1  Column2  Column3\n",
      "Row1       20       40       60\n"
     ]
    }
   ],
   "source": [
    "print(df2.iloc[0:1:2])\n"
   ]
  },
  {
   "cell_type": "code",
   "execution_count": 73,
   "id": "0eb4592a-f861-4d12-b48a-70c3134cf1ce",
   "metadata": {},
   "outputs": [
    {
     "name": "stdout",
     "output_type": "stream",
     "text": [
      "Empty DataFrame\n",
      "Columns: [Column1, Column2, Column3]\n",
      "Index: []\n"
     ]
    }
   ],
   "source": [
    "print(df2.iloc[2:2:2])"
   ]
  },
  {
   "cell_type": "code",
   "execution_count": null,
   "id": "f58e23a3-ad8f-433c-b9d6-2508899c5c49",
   "metadata": {},
   "outputs": [],
   "source": []
  }
 ],
 "metadata": {
  "kernelspec": {
   "display_name": "Python 3 (ipykernel)",
   "language": "python",
   "name": "python3"
  },
  "language_info": {
   "codemirror_mode": {
    "name": "ipython",
    "version": 3
   },
   "file_extension": ".py",
   "mimetype": "text/x-python",
   "name": "python",
   "nbconvert_exporter": "python",
   "pygments_lexer": "ipython3",
   "version": "3.13.0"
  }
 },
 "nbformat": 4,
 "nbformat_minor": 5
}
