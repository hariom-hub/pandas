{
 "cells": [
  {
   "cell_type": "code",
   "execution_count": 1,
   "id": "fa305ca5-4e52-4022-984b-875826db3773",
   "metadata": {},
   "outputs": [],
   "source": [
    "import numpy as np\n",
    "import pandas as pd"
   ]
  },
  {
   "cell_type": "code",
   "execution_count": 3,
   "id": "4b275b98-cdb7-4eb8-9b5c-2f885af54c0f",
   "metadata": {},
   "outputs": [
    {
     "name": "stdout",
     "output_type": "stream",
     "text": [
      "[[ 0  1  2  3]\n",
      " [ 4  5  6  7]\n",
      " [ 8  9 10 11]\n",
      " [12 13 14 15]\n",
      " [16 17 18 19]]\n"
     ]
    }
   ],
   "source": [
    "array = np.arange(0,20).reshape((5,4))\n",
    "print(array)"
   ]
  },
  {
   "cell_type": "code",
   "execution_count": 9,
   "id": "3b9df8b1-891c-46e3-af66-e6b8e809fb2a",
   "metadata": {},
   "outputs": [
    {
     "name": "stdout",
     "output_type": "stream",
     "text": [
      "      col1  col2  col3  col4\n",
      "row1     0     1     2     3\n",
      "row2     4     5     6     7\n",
      "row3     8     9    10    11\n",
      "row4    12    13    14    15\n",
      "row5    16    17    18    19\n"
     ]
    }
   ],
   "source": [
    "data = pd.DataFrame(array,index=[\"row1\",\"row2\",\"row3\",\"row4\",\"row5\"],columns=[\"col1\",\"col2\",\"col3\",\"col4\"])\n",
    "print(data)\n"
   ]
  },
  {
   "cell_type": "code",
   "execution_count": 10,
   "id": "4041c0eb-050f-45c2-949d-3690cb8c2a98",
   "metadata": {},
   "outputs": [
    {
     "name": "stdout",
     "output_type": "stream",
     "text": [
      "      col1  col2  col3  col4\n",
      "row1     0     1     2     3\n",
      "row2     4     5     6     7\n",
      "row3     8     9    10    11\n",
      "row4    12    13    14    15\n",
      "row5    16    17    18    19\n"
     ]
    }
   ],
   "source": [
    "print(data.head())"
   ]
  },
  {
   "cell_type": "code",
   "execution_count": 13,
   "id": "0d94fae8-e9a4-476e-82e5-4d6aed6707c2",
   "metadata": {},
   "outputs": [
    {
     "name": "stdout",
     "output_type": "stream",
     "text": [
      "      col1  col2  col3  col4\n",
      "row1     0     1     2     3\n",
      "row2     4     5     6     7\n",
      "row3     8     9    10    11\n",
      "row4    12    13    14    15\n",
      "row5    16    17    18    19\n"
     ]
    }
   ],
   "source": [
    "print(data.tail())"
   ]
  },
  {
   "cell_type": "raw",
   "id": "595ee284-0f27-4dbd-9643-f139d086a66b",
   "metadata": {},
   "source": []
  },
  {
   "cell_type": "code",
   "execution_count": 14,
   "id": "9140aea7-0452-481b-8519-4f52b53ef4bd",
   "metadata": {},
   "outputs": [
    {
     "data": {
      "text/plain": [
       "pandas.core.frame.DataFrame"
      ]
     },
     "execution_count": 14,
     "metadata": {},
     "output_type": "execute_result"
    }
   ],
   "source": [
    "type(data)"
   ]
  },
  {
   "cell_type": "code",
   "execution_count": 15,
   "id": "f4778ce6-844b-443c-9644-44bacbd0a6d8",
   "metadata": {},
   "outputs": [
    {
     "name": "stdout",
     "output_type": "stream",
     "text": [
      "<class 'pandas.core.frame.DataFrame'>\n",
      "Index: 5 entries, row1 to row5\n",
      "Data columns (total 4 columns):\n",
      " #   Column  Non-Null Count  Dtype\n",
      "---  ------  --------------  -----\n",
      " 0   col1    5 non-null      int64\n",
      " 1   col2    5 non-null      int64\n",
      " 2   col3    5 non-null      int64\n",
      " 3   col4    5 non-null      int64\n",
      "dtypes: int64(4)\n",
      "memory usage: 200.0+ bytes\n"
     ]
    }
   ],
   "source": [
    "data.info()"
   ]
  },
  {
   "cell_type": "code",
   "execution_count": 16,
   "id": "043f722e-17cd-43d0-bc58-97e13a89ce52",
   "metadata": {},
   "outputs": [
    {
     "name": "stdout",
     "output_type": "stream",
     "text": [
      "            col1       col2       col3       col4\n",
      "count   5.000000   5.000000   5.000000   5.000000\n",
      "mean    8.000000   9.000000  10.000000  11.000000\n",
      "std     6.324555   6.324555   6.324555   6.324555\n",
      "min     0.000000   1.000000   2.000000   3.000000\n",
      "25%     4.000000   5.000000   6.000000   7.000000\n",
      "50%     8.000000   9.000000  10.000000  11.000000\n",
      "75%    12.000000  13.000000  14.000000  15.000000\n",
      "max    16.000000  17.000000  18.000000  19.000000\n"
     ]
    }
   ],
   "source": [
    "print(data.describe())"
   ]
  },
  {
   "cell_type": "code",
   "execution_count": null,
   "id": "813fef70-7ac4-4338-a185-f0fbca13b757",
   "metadata": {},
   "outputs": [],
   "source": []
  }
 ],
 "metadata": {
  "kernelspec": {
   "display_name": "Python 3 (ipykernel)",
   "language": "python",
   "name": "python3"
  },
  "language_info": {
   "codemirror_mode": {
    "name": "ipython",
    "version": 3
   },
   "file_extension": ".py",
   "mimetype": "text/x-python",
   "name": "python",
   "nbconvert_exporter": "python",
   "pygments_lexer": "ipython3",
   "version": "3.13.0"
  }
 },
 "nbformat": 4,
 "nbformat_minor": 5
}
