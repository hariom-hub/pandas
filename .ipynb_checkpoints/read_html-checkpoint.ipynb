{
 "cells": [
  {
   "cell_type": "code",
   "execution_count": 8,
   "id": "f614b898-e4b7-4e69-85a2-0068124b9b55",
   "metadata": {},
   "outputs": [],
   "source": [
    "import numpy as np\n",
    "import pandas as pd\n",
    "from io import StringIO\n"
   ]
  },
  {
   "cell_type": "code",
   "execution_count": 9,
   "id": "9ef35ba4-275b-445a-87b7-13b1642d4513",
   "metadata": {},
   "outputs": [],
   "source": [
    "html = pd.read_html(\"https://en.wikipedia.org/wiki/2024_Summer_Olympics\")"
   ]
  },
  {
   "cell_type": "code",
   "execution_count": 10,
   "id": "fec20eed-5d26-47e7-bfce-6c16eaa273b2",
   "metadata": {},
   "outputs": [],
   "source": [
    "df = html[2]"
   ]
  },
  {
   "cell_type": "code",
   "execution_count": 12,
   "id": "2203247e-9270-4a67-93ef-f189dc4d178d",
   "metadata": {},
   "outputs": [
    {
     "data": {
      "text/html": [
       "<div>\n",
       "<style scoped>\n",
       "    .dataframe tbody tr th:only-of-type {\n",
       "        vertical-align: middle;\n",
       "    }\n",
       "\n",
       "    .dataframe tbody tr th {\n",
       "        vertical-align: top;\n",
       "    }\n",
       "\n",
       "    .dataframe thead th {\n",
       "        text-align: right;\n",
       "    }\n",
       "</style>\n",
       "<table border=\"1\" class=\"dataframe\">\n",
       "  <thead>\n",
       "    <tr style=\"text-align: right;\">\n",
       "      <th></th>\n",
       "      <th>City</th>\n",
       "      <th>Nation</th>\n",
       "      <th>Votes</th>\n",
       "    </tr>\n",
       "  </thead>\n",
       "  <tbody>\n",
       "    <tr>\n",
       "      <th>0</th>\n",
       "      <td>Paris</td>\n",
       "      <td>France</td>\n",
       "      <td>Selected as 2024 host</td>\n",
       "    </tr>\n",
       "    <tr>\n",
       "      <th>1</th>\n",
       "      <td>Los Angeles</td>\n",
       "      <td>United States</td>\n",
       "      <td>Selected as 2028 host</td>\n",
       "    </tr>\n",
       "    <tr>\n",
       "      <th>2</th>\n",
       "      <td>Hamburg</td>\n",
       "      <td>Germany</td>\n",
       "      <td>Withdrew</td>\n",
       "    </tr>\n",
       "    <tr>\n",
       "      <th>3</th>\n",
       "      <td>Rome</td>\n",
       "      <td>Italy</td>\n",
       "      <td>Withdrew</td>\n",
       "    </tr>\n",
       "    <tr>\n",
       "      <th>4</th>\n",
       "      <td>Budapest</td>\n",
       "      <td>Hungary</td>\n",
       "      <td>Withdrew</td>\n",
       "    </tr>\n",
       "  </tbody>\n",
       "</table>\n",
       "</div>"
      ],
      "text/plain": [
       "          City         Nation                  Votes\n",
       "0        Paris         France  Selected as 2024 host\n",
       "1  Los Angeles  United States  Selected as 2028 host\n",
       "2      Hamburg        Germany               Withdrew\n",
       "3         Rome          Italy               Withdrew\n",
       "4     Budapest        Hungary               Withdrew"
      ]
     },
     "execution_count": 12,
     "metadata": {},
     "output_type": "execute_result"
    }
   ],
   "source": [
    "df"
   ]
  },
  {
   "cell_type": "code",
   "execution_count": 15,
   "id": "068f5282-17cf-40b7-a849-0e8f6e3577f9",
   "metadata": {},
   "outputs": [],
   "source": [
    "df.to_html(\"df.html\")"
   ]
  },
  {
   "cell_type": "code",
   "execution_count": null,
   "id": "db844649-0d39-44ef-bea2-b66e0ad960f8",
   "metadata": {},
   "outputs": [],
   "source": []
  },
  {
   "cell_type": "code",
   "execution_count": null,
   "id": "050bbac3-ed1b-4ea2-b21e-24757b600c29",
   "metadata": {},
   "outputs": [],
   "source": []
  },
  {
   "cell_type": "code",
   "execution_count": null,
   "id": "3d143235-e969-4c6b-8a8e-ebb3a10c7faf",
   "metadata": {},
   "outputs": [],
   "source": []
  }
 ],
 "metadata": {
  "kernelspec": {
   "display_name": "Python 3 (ipykernel)",
   "language": "python",
   "name": "python3"
  },
  "language_info": {
   "codemirror_mode": {
    "name": "ipython",
    "version": 3
   },
   "file_extension": ".py",
   "mimetype": "text/x-python",
   "name": "python",
   "nbconvert_exporter": "python",
   "pygments_lexer": "ipython3",
   "version": "3.13.0"
  }
 },
 "nbformat": 4,
 "nbformat_minor": 5
}
