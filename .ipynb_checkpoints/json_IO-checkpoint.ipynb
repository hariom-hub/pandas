{
 "cells": [
  {
   "cell_type": "code",
   "execution_count": 2,
   "id": "d1132f51-6ab9-4a1c-bf03-3315391ea588",
   "metadata": {},
   "outputs": [],
   "source": [
    "import numpy as np\n",
    "import pandas as pd\n",
    "from io import StringIO"
   ]
  },
  {
   "cell_type": "code",
   "execution_count": 8,
   "id": "790d8ea2-578e-4f49-a734-1cfb3bb864ff",
   "metadata": {},
   "outputs": [
    {
     "data": {
      "text/html": [
       "<div>\n",
       "<style scoped>\n",
       "    .dataframe tbody tr th:only-of-type {\n",
       "        vertical-align: middle;\n",
       "    }\n",
       "\n",
       "    .dataframe tbody tr th {\n",
       "        vertical-align: top;\n",
       "    }\n",
       "\n",
       "    .dataframe thead th {\n",
       "        text-align: right;\n",
       "    }\n",
       "</style>\n",
       "<table border=\"1\" class=\"dataframe\">\n",
       "  <thead>\n",
       "    <tr style=\"text-align: right;\">\n",
       "      <th></th>\n",
       "      <th>name</th>\n",
       "      <th>age</th>\n",
       "      <th>height</th>\n",
       "      <th>job</th>\n",
       "    </tr>\n",
       "  </thead>\n",
       "  <tbody>\n",
       "    <tr>\n",
       "      <th>0</th>\n",
       "      <td>Fiona Lee</td>\n",
       "      <td>45</td>\n",
       "      <td>198</td>\n",
       "      <td>Doctor</td>\n",
       "    </tr>\n",
       "    <tr>\n",
       "      <th>1</th>\n",
       "      <td>Ian Taylor</td>\n",
       "      <td>22</td>\n",
       "      <td>198</td>\n",
       "      <td>Teacher</td>\n",
       "    </tr>\n",
       "    <tr>\n",
       "      <th>2</th>\n",
       "      <td>Jasmine Clark</td>\n",
       "      <td>54</td>\n",
       "      <td>165</td>\n",
       "      <td>Project Manager</td>\n",
       "    </tr>\n",
       "    <tr>\n",
       "      <th>3</th>\n",
       "      <td>Fiona Brown</td>\n",
       "      <td>27</td>\n",
       "      <td>180</td>\n",
       "      <td>Teacher</td>\n",
       "    </tr>\n",
       "    <tr>\n",
       "      <th>4</th>\n",
       "      <td>Charlie Clark</td>\n",
       "      <td>48</td>\n",
       "      <td>157</td>\n",
       "      <td>Data Scientist</td>\n",
       "    </tr>\n",
       "    <tr>\n",
       "      <th>...</th>\n",
       "      <td>...</td>\n",
       "      <td>...</td>\n",
       "      <td>...</td>\n",
       "      <td>...</td>\n",
       "    </tr>\n",
       "    <tr>\n",
       "      <th>95</th>\n",
       "      <td>Fiona Clark</td>\n",
       "      <td>41</td>\n",
       "      <td>175</td>\n",
       "      <td>Software Engineer</td>\n",
       "    </tr>\n",
       "    <tr>\n",
       "      <th>96</th>\n",
       "      <td>George Clark</td>\n",
       "      <td>50</td>\n",
       "      <td>152</td>\n",
       "      <td>Content Writer</td>\n",
       "    </tr>\n",
       "    <tr>\n",
       "      <th>97</th>\n",
       "      <td>Ian Davis</td>\n",
       "      <td>51</td>\n",
       "      <td>153</td>\n",
       "      <td>Marketing Manager</td>\n",
       "    </tr>\n",
       "    <tr>\n",
       "      <th>98</th>\n",
       "      <td>Bob Williams</td>\n",
       "      <td>35</td>\n",
       "      <td>183</td>\n",
       "      <td>Data Scientist</td>\n",
       "    </tr>\n",
       "    <tr>\n",
       "      <th>99</th>\n",
       "      <td>Ethan Anderson</td>\n",
       "      <td>45</td>\n",
       "      <td>154</td>\n",
       "      <td>Marketing Manager</td>\n",
       "    </tr>\n",
       "  </tbody>\n",
       "</table>\n",
       "<p>100 rows × 4 columns</p>\n",
       "</div>"
      ],
      "text/plain": [
       "              name  age  height                job\n",
       "0        Fiona Lee   45     198             Doctor\n",
       "1       Ian Taylor   22     198            Teacher\n",
       "2    Jasmine Clark   54     165    Project Manager\n",
       "3      Fiona Brown   27     180            Teacher\n",
       "4    Charlie Clark   48     157     Data Scientist\n",
       "..             ...  ...     ...                ...\n",
       "95     Fiona Clark   41     175  Software Engineer\n",
       "96    George Clark   50     152     Content Writer\n",
       "97       Ian Davis   51     153  Marketing Manager\n",
       "98    Bob Williams   35     183     Data Scientist\n",
       "99  Ethan Anderson   45     154  Marketing Manager\n",
       "\n",
       "[100 rows x 4 columns]"
      ]
     },
     "execution_count": 8,
     "metadata": {},
     "output_type": "execute_result"
    }
   ],
   "source": [
    "\n",
    "type(jsondf)\n",
    "jsondf"
   ]
  },
  {
   "cell_type": "code",
   "execution_count": 13,
   "id": "e37f0610-cf06-4a46-9317-a488a1931dbd",
   "metadata": {},
   "outputs": [
    {
     "data": {
      "text/html": [
       "<div>\n",
       "<style scoped>\n",
       "    .dataframe tbody tr th:only-of-type {\n",
       "        vertical-align: middle;\n",
       "    }\n",
       "\n",
       "    .dataframe tbody tr th {\n",
       "        vertical-align: top;\n",
       "    }\n",
       "\n",
       "    .dataframe thead th {\n",
       "        text-align: right;\n",
       "    }\n",
       "</style>\n",
       "<table border=\"1\" class=\"dataframe\">\n",
       "  <thead>\n",
       "    <tr style=\"text-align: right;\">\n",
       "      <th></th>\n",
       "      <th>name</th>\n",
       "      <th>age</th>\n",
       "      <th>height</th>\n",
       "      <th>job</th>\n",
       "    </tr>\n",
       "  </thead>\n",
       "  <tbody>\n",
       "    <tr>\n",
       "      <th>0</th>\n",
       "      <td>Fiona Lee</td>\n",
       "      <td>45</td>\n",
       "      <td>198</td>\n",
       "      <td>Doctor</td>\n",
       "    </tr>\n",
       "    <tr>\n",
       "      <th>1</th>\n",
       "      <td>Ian Taylor</td>\n",
       "      <td>22</td>\n",
       "      <td>198</td>\n",
       "      <td>Teacher</td>\n",
       "    </tr>\n",
       "    <tr>\n",
       "      <th>2</th>\n",
       "      <td>Jasmine Clark</td>\n",
       "      <td>54</td>\n",
       "      <td>165</td>\n",
       "      <td>Project Manager</td>\n",
       "    </tr>\n",
       "    <tr>\n",
       "      <th>3</th>\n",
       "      <td>Fiona Brown</td>\n",
       "      <td>27</td>\n",
       "      <td>180</td>\n",
       "      <td>Teacher</td>\n",
       "    </tr>\n",
       "    <tr>\n",
       "      <th>4</th>\n",
       "      <td>Charlie Clark</td>\n",
       "      <td>48</td>\n",
       "      <td>157</td>\n",
       "      <td>Data Scientist</td>\n",
       "    </tr>\n",
       "    <tr>\n",
       "      <th>...</th>\n",
       "      <td>...</td>\n",
       "      <td>...</td>\n",
       "      <td>...</td>\n",
       "      <td>...</td>\n",
       "    </tr>\n",
       "    <tr>\n",
       "      <th>95</th>\n",
       "      <td>Fiona Clark</td>\n",
       "      <td>41</td>\n",
       "      <td>175</td>\n",
       "      <td>Software Engineer</td>\n",
       "    </tr>\n",
       "    <tr>\n",
       "      <th>96</th>\n",
       "      <td>George Clark</td>\n",
       "      <td>50</td>\n",
       "      <td>152</td>\n",
       "      <td>Content Writer</td>\n",
       "    </tr>\n",
       "    <tr>\n",
       "      <th>97</th>\n",
       "      <td>Ian Davis</td>\n",
       "      <td>51</td>\n",
       "      <td>153</td>\n",
       "      <td>Marketing Manager</td>\n",
       "    </tr>\n",
       "    <tr>\n",
       "      <th>98</th>\n",
       "      <td>Bob Williams</td>\n",
       "      <td>35</td>\n",
       "      <td>183</td>\n",
       "      <td>Data Scientist</td>\n",
       "    </tr>\n",
       "    <tr>\n",
       "      <th>99</th>\n",
       "      <td>Ethan Anderson</td>\n",
       "      <td>45</td>\n",
       "      <td>154</td>\n",
       "      <td>Marketing Manager</td>\n",
       "    </tr>\n",
       "  </tbody>\n",
       "</table>\n",
       "<p>100 rows × 4 columns</p>\n",
       "</div>"
      ],
      "text/plain": [
       "              name  age  height                job\n",
       "0        Fiona Lee   45     198             Doctor\n",
       "1       Ian Taylor   22     198            Teacher\n",
       "2    Jasmine Clark   54     165    Project Manager\n",
       "3      Fiona Brown   27     180            Teacher\n",
       "4    Charlie Clark   48     157     Data Scientist\n",
       "..             ...  ...     ...                ...\n",
       "95     Fiona Clark   41     175  Software Engineer\n",
       "96    George Clark   50     152     Content Writer\n",
       "97       Ian Davis   51     153  Marketing Manager\n",
       "98    Bob Williams   35     183     Data Scientist\n",
       "99  Ethan Anderson   45     154  Marketing Manager\n",
       "\n",
       "[100 rows x 4 columns]"
      ]
     },
     "execution_count": 13,
     "metadata": {},
     "output_type": "execute_result"
    }
   ],
   "source": [
    "jsondf"
   ]
  },
  {
   "cell_type": "code",
   "execution_count": 34,
   "id": "bda4f9e0-32ff-4ca8-a19d-a03b547ab59a",
   "metadata": {},
   "outputs": [
    {
     "data": {
      "text/plain": [
       "'{\"name\": \"Alice Johnson\",\"age\": 28,\"height\": 165,\"job\": \"Software Engineer\"}'"
      ]
     },
     "execution_count": 34,
     "metadata": {},
     "output_type": "execute_result"
    }
   ],
   "source": [
    "jsonData"
   ]
  },
  {
   "cell_type": "code",
   "execution_count": 38,
   "id": "381dbcf0-5cf5-493c-a5e1-c0e867ecfffa",
   "metadata": {},
   "outputs": [],
   "source": [
    "jsonData='{\"name\": \"Alice Johnson\",\"age\": 28,\"height\": 165,\"job\": \"Software Engineer\"}'"
   ]
  },
  {
   "cell_type": "code",
   "execution_count": 40,
   "id": "5bc6d8b7-0d55-4e6e-8950-ae80077acd2a",
   "metadata": {},
   "outputs": [
    {
     "data": {
      "text/html": [
       "<div>\n",
       "<style scoped>\n",
       "    .dataframe tbody tr th:only-of-type {\n",
       "        vertical-align: middle;\n",
       "    }\n",
       "\n",
       "    .dataframe tbody tr th {\n",
       "        vertical-align: top;\n",
       "    }\n",
       "\n",
       "    .dataframe thead th {\n",
       "        text-align: right;\n",
       "    }\n",
       "</style>\n",
       "<table border=\"1\" class=\"dataframe\">\n",
       "  <thead>\n",
       "    <tr style=\"text-align: right;\">\n",
       "      <th></th>\n",
       "      <th>0</th>\n",
       "    </tr>\n",
       "  </thead>\n",
       "  <tbody>\n",
       "    <tr>\n",
       "      <th>name</th>\n",
       "      <td>Alice Johnson</td>\n",
       "    </tr>\n",
       "    <tr>\n",
       "      <th>age</th>\n",
       "      <td>28</td>\n",
       "    </tr>\n",
       "    <tr>\n",
       "      <th>height</th>\n",
       "      <td>165</td>\n",
       "    </tr>\n",
       "    <tr>\n",
       "      <th>job</th>\n",
       "      <td>Software Engineer</td>\n",
       "    </tr>\n",
       "  </tbody>\n",
       "</table>\n",
       "</div>"
      ],
      "text/plain": [
       "                        0\n",
       "name        Alice Johnson\n",
       "age                    28\n",
       "height                165\n",
       "job     Software Engineer"
      ]
     },
     "execution_count": 40,
     "metadata": {},
     "output_type": "execute_result"
    }
   ],
   "source": [
    "pd.read_json(StringIO(jsonData),orient='index')"
   ]
  },
  {
   "cell_type": "code",
   "execution_count": 45,
   "id": "1c249f3c-a810-4d93-8e7c-fccc05d0d970",
   "metadata": {},
   "outputs": [
    {
     "ename": "NameError",
     "evalue": "name 'jsonData' is not defined",
     "output_type": "error",
     "traceback": [
      "\u001b[1;31m---------------------------------------------------------------------------\u001b[0m",
      "\u001b[1;31mNameError\u001b[0m                                 Traceback (most recent call last)",
      "Cell \u001b[1;32mIn[45], line 1\u001b[0m\n\u001b[1;32m----> 1\u001b[0m \u001b[43mjsonData\u001b[49m\n",
      "\u001b[1;31mNameError\u001b[0m: name 'jsonData' is not defined"
     ]
    }
   ],
   "source": [
    "jsonData"
   ]
  },
  {
   "cell_type": "code",
   "execution_count": 3,
   "id": "f3709260-e99f-4d4a-b765-5cb46c445557",
   "metadata": {},
   "outputs": [],
   "source": [
    "df = pd.DataFrame([['a','b'],['c','d']],index=['row1','row2'],columns=['col1','col2'])"
   ]
  },
  {
   "cell_type": "code",
   "execution_count": 4,
   "id": "c5944aa0-d64d-4478-a0a1-0d0b2afb8ad5",
   "metadata": {},
   "outputs": [
    {
     "data": {
      "text/html": [
       "<div>\n",
       "<style scoped>\n",
       "    .dataframe tbody tr th:only-of-type {\n",
       "        vertical-align: middle;\n",
       "    }\n",
       "\n",
       "    .dataframe tbody tr th {\n",
       "        vertical-align: top;\n",
       "    }\n",
       "\n",
       "    .dataframe thead th {\n",
       "        text-align: right;\n",
       "    }\n",
       "</style>\n",
       "<table border=\"1\" class=\"dataframe\">\n",
       "  <thead>\n",
       "    <tr style=\"text-align: right;\">\n",
       "      <th></th>\n",
       "      <th>col1</th>\n",
       "      <th>col2</th>\n",
       "    </tr>\n",
       "  </thead>\n",
       "  <tbody>\n",
       "    <tr>\n",
       "      <th>row1</th>\n",
       "      <td>a</td>\n",
       "      <td>b</td>\n",
       "    </tr>\n",
       "    <tr>\n",
       "      <th>row2</th>\n",
       "      <td>c</td>\n",
       "      <td>d</td>\n",
       "    </tr>\n",
       "  </tbody>\n",
       "</table>\n",
       "</div>"
      ],
      "text/plain": [
       "     col1 col2\n",
       "row1    a    b\n",
       "row2    c    d"
      ]
     },
     "execution_count": 4,
     "metadata": {},
     "output_type": "execute_result"
    }
   ],
   "source": [
    "df"
   ]
  },
  {
   "cell_type": "code",
   "execution_count": 11,
   "id": "3ccd73da-68b1-4f5c-b851-4d788927b10c",
   "metadata": {},
   "outputs": [],
   "source": [
    "df2 = pd.DataFrame([['hariom','gaurisha','shreesha'],['maths','science','physics'],['cse','ai','ml']],index=['row1','row2','row3'],columns=['col1','col2','col3'])"
   ]
  },
  {
   "cell_type": "code",
   "execution_count": 12,
   "id": "2ae9d727-b053-4fd4-a546-9e513bde9f57",
   "metadata": {},
   "outputs": [
    {
     "data": {
      "text/html": [
       "<div>\n",
       "<style scoped>\n",
       "    .dataframe tbody tr th:only-of-type {\n",
       "        vertical-align: middle;\n",
       "    }\n",
       "\n",
       "    .dataframe tbody tr th {\n",
       "        vertical-align: top;\n",
       "    }\n",
       "\n",
       "    .dataframe thead th {\n",
       "        text-align: right;\n",
       "    }\n",
       "</style>\n",
       "<table border=\"1\" class=\"dataframe\">\n",
       "  <thead>\n",
       "    <tr style=\"text-align: right;\">\n",
       "      <th></th>\n",
       "      <th>col1</th>\n",
       "      <th>col2</th>\n",
       "      <th>col3</th>\n",
       "    </tr>\n",
       "  </thead>\n",
       "  <tbody>\n",
       "    <tr>\n",
       "      <th>row1</th>\n",
       "      <td>hariom</td>\n",
       "      <td>gaurisha</td>\n",
       "      <td>shreesha</td>\n",
       "    </tr>\n",
       "    <tr>\n",
       "      <th>row2</th>\n",
       "      <td>maths</td>\n",
       "      <td>science</td>\n",
       "      <td>physics</td>\n",
       "    </tr>\n",
       "    <tr>\n",
       "      <th>row3</th>\n",
       "      <td>cse</td>\n",
       "      <td>ai</td>\n",
       "      <td>ml</td>\n",
       "    </tr>\n",
       "  </tbody>\n",
       "</table>\n",
       "</div>"
      ],
      "text/plain": [
       "        col1      col2      col3\n",
       "row1  hariom  gaurisha  shreesha\n",
       "row2   maths   science   physics\n",
       "row3     cse        ai        ml"
      ]
     },
     "execution_count": 12,
     "metadata": {},
     "output_type": "execute_result"
    }
   ],
   "source": [
    "df2"
   ]
  },
  {
   "cell_type": "code",
   "execution_count": 14,
   "id": "72d415d0-c2f9-4f9c-bf8a-592d7993c7ff",
   "metadata": {},
   "outputs": [
    {
     "data": {
      "text/plain": [
       "'{\"col1\":{\"row1\":\"hariom\",\"row2\":\"maths\",\"row3\":\"cse\"},\"col2\":{\"row1\":\"gaurisha\",\"row2\":\"science\",\"row3\":\"ai\"},\"col3\":{\"row1\":\"shreesha\",\"row2\":\"physics\",\"row3\":\"ml\"}}'"
      ]
     },
     "execution_count": 14,
     "metadata": {},
     "output_type": "execute_result"
    }
   ],
   "source": [
    "df2.to_json()"
   ]
  },
  {
   "cell_type": "code",
   "execution_count": 15,
   "id": "4507099c-baa7-422d-bf04-54ff3b372bc6",
   "metadata": {},
   "outputs": [
    {
     "data": {
      "text/plain": [
       "'{\"row1\":{\"col1\":\"hariom\",\"col2\":\"gaurisha\",\"col3\":\"shreesha\"},\"row2\":{\"col1\":\"maths\",\"col2\":\"science\",\"col3\":\"physics\"},\"row3\":{\"col1\":\"cse\",\"col2\":\"ai\",\"col3\":\"ml\"}}'"
      ]
     },
     "execution_count": 15,
     "metadata": {},
     "output_type": "execute_result"
    }
   ],
   "source": [
    "df2.to_json(orient='index')"
   ]
  },
  {
   "cell_type": "code",
   "execution_count": 16,
   "id": "dc607555-b414-42c0-814f-216e9c6eed65",
   "metadata": {},
   "outputs": [
    {
     "data": {
      "text/plain": [
       "'{\"col1\":{\"row1\":\"hariom\",\"row2\":\"maths\",\"row3\":\"cse\"},\"col2\":{\"row1\":\"gaurisha\",\"row2\":\"science\",\"row3\":\"ai\"},\"col3\":{\"row1\":\"shreesha\",\"row2\":\"physics\",\"row3\":\"ml\"}}'"
      ]
     },
     "execution_count": 16,
     "metadata": {},
     "output_type": "execute_result"
    }
   ],
   "source": [
    "df2.to_json(orient='columns')"
   ]
  },
  {
   "cell_type": "code",
   "execution_count": 17,
   "id": "a5c2718f-f088-423e-88f9-fd93b1ec616f",
   "metadata": {},
   "outputs": [
    {
     "data": {
      "text/plain": [
       "'[{\"col1\":\"hariom\",\"col2\":\"gaurisha\",\"col3\":\"shreesha\"},{\"col1\":\"maths\",\"col2\":\"science\",\"col3\":\"physics\"},{\"col1\":\"cse\",\"col2\":\"ai\",\"col3\":\"ml\"}]'"
      ]
     },
     "execution_count": 17,
     "metadata": {},
     "output_type": "execute_result"
    }
   ],
   "source": [
    "df2.to_json(orient='records')"
   ]
  },
  {
   "cell_type": "code",
   "execution_count": 18,
   "id": "dcbe50ef-3443-436e-911b-29ea2f1817e8",
   "metadata": {},
   "outputs": [
    {
     "data": {
      "text/plain": [
       "'{\"columns\":[\"col1\",\"col2\",\"col3\"],\"index\":[\"row1\",\"row2\",\"row3\"],\"data\":[[\"hariom\",\"gaurisha\",\"shreesha\"],[\"maths\",\"science\",\"physics\"],[\"cse\",\"ai\",\"ml\"]]}'"
      ]
     },
     "execution_count": 18,
     "metadata": {},
     "output_type": "execute_result"
    }
   ],
   "source": [
    "df2.to_json(orient='split')"
   ]
  },
  {
   "cell_type": "code",
   "execution_count": 19,
   "id": "e5764e0c-f682-4f4f-b32e-85f9ca817f1e",
   "metadata": {},
   "outputs": [],
   "source": [
    "df2['col1'] = 'name1'"
   ]
  },
  {
   "cell_type": "code",
   "execution_count": 20,
   "id": "c8200942-281c-4ae1-90e7-b414e2259d6b",
   "metadata": {},
   "outputs": [
    {
     "data": {
      "text/html": [
       "<div>\n",
       "<style scoped>\n",
       "    .dataframe tbody tr th:only-of-type {\n",
       "        vertical-align: middle;\n",
       "    }\n",
       "\n",
       "    .dataframe tbody tr th {\n",
       "        vertical-align: top;\n",
       "    }\n",
       "\n",
       "    .dataframe thead th {\n",
       "        text-align: right;\n",
       "    }\n",
       "</style>\n",
       "<table border=\"1\" class=\"dataframe\">\n",
       "  <thead>\n",
       "    <tr style=\"text-align: right;\">\n",
       "      <th></th>\n",
       "      <th>col1</th>\n",
       "      <th>col2</th>\n",
       "      <th>col3</th>\n",
       "    </tr>\n",
       "  </thead>\n",
       "  <tbody>\n",
       "    <tr>\n",
       "      <th>row1</th>\n",
       "      <td>name1</td>\n",
       "      <td>gaurisha</td>\n",
       "      <td>shreesha</td>\n",
       "    </tr>\n",
       "    <tr>\n",
       "      <th>row2</th>\n",
       "      <td>name1</td>\n",
       "      <td>science</td>\n",
       "      <td>physics</td>\n",
       "    </tr>\n",
       "    <tr>\n",
       "      <th>row3</th>\n",
       "      <td>name1</td>\n",
       "      <td>ai</td>\n",
       "      <td>ml</td>\n",
       "    </tr>\n",
       "  </tbody>\n",
       "</table>\n",
       "</div>"
      ],
      "text/plain": [
       "       col1      col2      col3\n",
       "row1  name1  gaurisha  shreesha\n",
       "row2  name1   science   physics\n",
       "row3  name1        ai        ml"
      ]
     },
     "execution_count": 20,
     "metadata": {},
     "output_type": "execute_result"
    }
   ],
   "source": [
    "df2"
   ]
  },
  {
   "cell_type": "code",
   "execution_count": 22,
   "id": "38d25d3b-ed2b-490c-9ebe-5fd2a5ecc24d",
   "metadata": {},
   "outputs": [],
   "source": [
    "df2['col1','row1'] = 'hariom'"
   ]
  },
  {
   "cell_type": "code",
   "execution_count": 23,
   "id": "f58bfcba-4f45-44ac-996d-69216131a182",
   "metadata": {},
   "outputs": [
    {
     "data": {
      "text/html": [
       "<div>\n",
       "<style scoped>\n",
       "    .dataframe tbody tr th:only-of-type {\n",
       "        vertical-align: middle;\n",
       "    }\n",
       "\n",
       "    .dataframe tbody tr th {\n",
       "        vertical-align: top;\n",
       "    }\n",
       "\n",
       "    .dataframe thead th {\n",
       "        text-align: right;\n",
       "    }\n",
       "</style>\n",
       "<table border=\"1\" class=\"dataframe\">\n",
       "  <thead>\n",
       "    <tr style=\"text-align: right;\">\n",
       "      <th></th>\n",
       "      <th>col1</th>\n",
       "      <th>col2</th>\n",
       "      <th>col3</th>\n",
       "      <th>(col1, row1)</th>\n",
       "    </tr>\n",
       "  </thead>\n",
       "  <tbody>\n",
       "    <tr>\n",
       "      <th>row1</th>\n",
       "      <td>hariom</td>\n",
       "      <td>gaurisha</td>\n",
       "      <td>shreesha</td>\n",
       "      <td>hariom</td>\n",
       "    </tr>\n",
       "    <tr>\n",
       "      <th>row2</th>\n",
       "      <td>name1</td>\n",
       "      <td>science</td>\n",
       "      <td>physics</td>\n",
       "      <td>hariom</td>\n",
       "    </tr>\n",
       "    <tr>\n",
       "      <th>row3</th>\n",
       "      <td>name1</td>\n",
       "      <td>ai</td>\n",
       "      <td>ml</td>\n",
       "      <td>hariom</td>\n",
       "    </tr>\n",
       "  </tbody>\n",
       "</table>\n",
       "</div>"
      ],
      "text/plain": [
       "        col1      col2      col3 (col1, row1)\n",
       "row1  hariom  gaurisha  shreesha       hariom\n",
       "row2   name1   science   physics       hariom\n",
       "row3   name1        ai        ml       hariom"
      ]
     },
     "execution_count": 23,
     "metadata": {},
     "output_type": "execute_result"
    }
   ],
   "source": [
    "df2"
   ]
  },
  {
   "cell_type": "code",
   "execution_count": 44,
   "id": "8eb9bf8f-a68a-433e-957b-9f3e0bb4bf6a",
   "metadata": {
    "scrolled": true
   },
   "outputs": [],
   "source": [
    "df2 = df2.drop(df2.columns[3:4])"
   ]
  },
  {
   "cell_type": "code",
   "execution_count": 25,
   "id": "a5511a7b-cdfd-4ee6-9c8f-4c8798cfd474",
   "metadata": {},
   "outputs": [
    {
     "data": {
      "text/html": [
       "<div>\n",
       "<style scoped>\n",
       "    .dataframe tbody tr th:only-of-type {\n",
       "        vertical-align: middle;\n",
       "    }\n",
       "\n",
       "    .dataframe tbody tr th {\n",
       "        vertical-align: top;\n",
       "    }\n",
       "\n",
       "    .dataframe thead th {\n",
       "        text-align: right;\n",
       "    }\n",
       "</style>\n",
       "<table border=\"1\" class=\"dataframe\">\n",
       "  <thead>\n",
       "    <tr style=\"text-align: right;\">\n",
       "      <th></th>\n",
       "      <th>col1</th>\n",
       "      <th>col2</th>\n",
       "      <th>col3</th>\n",
       "      <th>(col1, row1)</th>\n",
       "    </tr>\n",
       "  </thead>\n",
       "  <tbody>\n",
       "    <tr>\n",
       "      <th>row1</th>\n",
       "      <td>hariom</td>\n",
       "      <td>gaurisha</td>\n",
       "      <td>shreesha</td>\n",
       "      <td>hariom</td>\n",
       "    </tr>\n",
       "    <tr>\n",
       "      <th>row2</th>\n",
       "      <td>name1</td>\n",
       "      <td>science</td>\n",
       "      <td>physics</td>\n",
       "      <td>hariom</td>\n",
       "    </tr>\n",
       "    <tr>\n",
       "      <th>row3</th>\n",
       "      <td>name1</td>\n",
       "      <td>ai</td>\n",
       "      <td>ml</td>\n",
       "      <td>hariom</td>\n",
       "    </tr>\n",
       "  </tbody>\n",
       "</table>\n",
       "</div>"
      ],
      "text/plain": [
       "        col1      col2      col3 (col1, row1)\n",
       "row1  hariom  gaurisha  shreesha       hariom\n",
       "row2   name1   science   physics       hariom\n",
       "row3   name1        ai        ml       hariom"
      ]
     },
     "execution_count": 25,
     "metadata": {},
     "output_type": "execute_result"
    }
   ],
   "source": [
    "df2\n"
   ]
  },
  {
   "cell_type": "code",
   "execution_count": 27,
   "id": "a0931fc5-90cb-4b12-8e0b-71c2762f382a",
   "metadata": {},
   "outputs": [],
   "source": [
    "df2 = df2.drop(df2.columns[3:4],axis=1)"
   ]
  },
  {
   "cell_type": "code",
   "execution_count": 28,
   "id": "d3370562-c2e8-4d93-9f20-26c9485216e8",
   "metadata": {},
   "outputs": [
    {
     "data": {
      "text/html": [
       "<div>\n",
       "<style scoped>\n",
       "    .dataframe tbody tr th:only-of-type {\n",
       "        vertical-align: middle;\n",
       "    }\n",
       "\n",
       "    .dataframe tbody tr th {\n",
       "        vertical-align: top;\n",
       "    }\n",
       "\n",
       "    .dataframe thead th {\n",
       "        text-align: right;\n",
       "    }\n",
       "</style>\n",
       "<table border=\"1\" class=\"dataframe\">\n",
       "  <thead>\n",
       "    <tr style=\"text-align: right;\">\n",
       "      <th></th>\n",
       "      <th>col1</th>\n",
       "      <th>col2</th>\n",
       "      <th>col3</th>\n",
       "    </tr>\n",
       "  </thead>\n",
       "  <tbody>\n",
       "    <tr>\n",
       "      <th>row1</th>\n",
       "      <td>hariom</td>\n",
       "      <td>gaurisha</td>\n",
       "      <td>shreesha</td>\n",
       "    </tr>\n",
       "    <tr>\n",
       "      <th>row2</th>\n",
       "      <td>name1</td>\n",
       "      <td>science</td>\n",
       "      <td>physics</td>\n",
       "    </tr>\n",
       "    <tr>\n",
       "      <th>row3</th>\n",
       "      <td>name1</td>\n",
       "      <td>ai</td>\n",
       "      <td>ml</td>\n",
       "    </tr>\n",
       "  </tbody>\n",
       "</table>\n",
       "</div>"
      ],
      "text/plain": [
       "        col1      col2      col3\n",
       "row1  hariom  gaurisha  shreesha\n",
       "row2   name1   science   physics\n",
       "row3   name1        ai        ml"
      ]
     },
     "execution_count": 28,
     "metadata": {},
     "output_type": "execute_result"
    }
   ],
   "source": [
    "df2"
   ]
  },
  {
   "cell_type": "code",
   "execution_count": 29,
   "id": "d3686436-d4d8-4432-89e5-4e74666a4a83",
   "metadata": {},
   "outputs": [],
   "source": [
    "df2['col1','row2'] = 'maths'"
   ]
  },
  {
   "cell_type": "code",
   "execution_count": 30,
   "id": "33335348-ef7e-49db-9bb6-b128008f146b",
   "metadata": {},
   "outputs": [
    {
     "data": {
      "text/html": [
       "<div>\n",
       "<style scoped>\n",
       "    .dataframe tbody tr th:only-of-type {\n",
       "        vertical-align: middle;\n",
       "    }\n",
       "\n",
       "    .dataframe tbody tr th {\n",
       "        vertical-align: top;\n",
       "    }\n",
       "\n",
       "    .dataframe thead th {\n",
       "        text-align: right;\n",
       "    }\n",
       "</style>\n",
       "<table border=\"1\" class=\"dataframe\">\n",
       "  <thead>\n",
       "    <tr style=\"text-align: right;\">\n",
       "      <th></th>\n",
       "      <th>col1</th>\n",
       "      <th>col2</th>\n",
       "      <th>col3</th>\n",
       "      <th>(col1, row2)</th>\n",
       "    </tr>\n",
       "  </thead>\n",
       "  <tbody>\n",
       "    <tr>\n",
       "      <th>row1</th>\n",
       "      <td>hariom</td>\n",
       "      <td>gaurisha</td>\n",
       "      <td>shreesha</td>\n",
       "      <td>maths</td>\n",
       "    </tr>\n",
       "    <tr>\n",
       "      <th>row2</th>\n",
       "      <td>name1</td>\n",
       "      <td>science</td>\n",
       "      <td>physics</td>\n",
       "      <td>maths</td>\n",
       "    </tr>\n",
       "    <tr>\n",
       "      <th>row3</th>\n",
       "      <td>name1</td>\n",
       "      <td>ai</td>\n",
       "      <td>ml</td>\n",
       "      <td>maths</td>\n",
       "    </tr>\n",
       "  </tbody>\n",
       "</table>\n",
       "</div>"
      ],
      "text/plain": [
       "        col1      col2      col3 (col1, row2)\n",
       "row1  hariom  gaurisha  shreesha        maths\n",
       "row2   name1   science   physics        maths\n",
       "row3   name1        ai        ml        maths"
      ]
     },
     "execution_count": 30,
     "metadata": {},
     "output_type": "execute_result"
    }
   ],
   "source": [
    "df2"
   ]
  },
  {
   "cell_type": "code",
   "execution_count": 31,
   "id": "e69ac890-74d6-4732-91db-66855bff63ca",
   "metadata": {},
   "outputs": [],
   "source": [
    "df2 = df2.drop(df2.columns[3:4],axis=1)"
   ]
  },
  {
   "cell_type": "code",
   "execution_count": 32,
   "id": "33bcf3e1-dd61-42ff-84d8-24221cdee226",
   "metadata": {},
   "outputs": [
    {
     "data": {
      "text/html": [
       "<div>\n",
       "<style scoped>\n",
       "    .dataframe tbody tr th:only-of-type {\n",
       "        vertical-align: middle;\n",
       "    }\n",
       "\n",
       "    .dataframe tbody tr th {\n",
       "        vertical-align: top;\n",
       "    }\n",
       "\n",
       "    .dataframe thead th {\n",
       "        text-align: right;\n",
       "    }\n",
       "</style>\n",
       "<table border=\"1\" class=\"dataframe\">\n",
       "  <thead>\n",
       "    <tr style=\"text-align: right;\">\n",
       "      <th></th>\n",
       "      <th>col1</th>\n",
       "      <th>col2</th>\n",
       "      <th>col3</th>\n",
       "    </tr>\n",
       "  </thead>\n",
       "  <tbody>\n",
       "    <tr>\n",
       "      <th>row1</th>\n",
       "      <td>hariom</td>\n",
       "      <td>gaurisha</td>\n",
       "      <td>shreesha</td>\n",
       "    </tr>\n",
       "    <tr>\n",
       "      <th>row2</th>\n",
       "      <td>name1</td>\n",
       "      <td>science</td>\n",
       "      <td>physics</td>\n",
       "    </tr>\n",
       "    <tr>\n",
       "      <th>row3</th>\n",
       "      <td>name1</td>\n",
       "      <td>ai</td>\n",
       "      <td>ml</td>\n",
       "    </tr>\n",
       "  </tbody>\n",
       "</table>\n",
       "</div>"
      ],
      "text/plain": [
       "        col1      col2      col3\n",
       "row1  hariom  gaurisha  shreesha\n",
       "row2   name1   science   physics\n",
       "row3   name1        ai        ml"
      ]
     },
     "execution_count": 32,
     "metadata": {},
     "output_type": "execute_result"
    }
   ],
   "source": [
    "df2"
   ]
  },
  {
   "cell_type": "code",
   "execution_count": 33,
   "id": "bf52bdfc-3dcc-4de6-a6d9-b29589d32d3c",
   "metadata": {},
   "outputs": [
    {
     "data": {
      "text/html": [
       "<div>\n",
       "<style scoped>\n",
       "    .dataframe tbody tr th:only-of-type {\n",
       "        vertical-align: middle;\n",
       "    }\n",
       "\n",
       "    .dataframe tbody tr th {\n",
       "        vertical-align: top;\n",
       "    }\n",
       "\n",
       "    .dataframe thead th {\n",
       "        text-align: right;\n",
       "    }\n",
       "</style>\n",
       "<table border=\"1\" class=\"dataframe\">\n",
       "  <thead>\n",
       "    <tr style=\"text-align: right;\">\n",
       "      <th></th>\n",
       "      <th>col1</th>\n",
       "      <th>col2</th>\n",
       "      <th>col3</th>\n",
       "    </tr>\n",
       "  </thead>\n",
       "  <tbody>\n",
       "  </tbody>\n",
       "</table>\n",
       "</div>"
      ],
      "text/plain": [
       "Empty DataFrame\n",
       "Columns: [col1, col2, col3]\n",
       "Index: []"
      ]
     },
     "execution_count": 33,
     "metadata": {},
     "output_type": "execute_result"
    }
   ],
   "source": [
    "df2['row1':'col1']"
   ]
  },
  {
   "cell_type": "code",
   "execution_count": 34,
   "id": "4f842509-c166-43d8-b182-acecc8396323",
   "metadata": {},
   "outputs": [
    {
     "data": {
      "text/html": [
       "<div>\n",
       "<style scoped>\n",
       "    .dataframe tbody tr th:only-of-type {\n",
       "        vertical-align: middle;\n",
       "    }\n",
       "\n",
       "    .dataframe tbody tr th {\n",
       "        vertical-align: top;\n",
       "    }\n",
       "\n",
       "    .dataframe thead th {\n",
       "        text-align: right;\n",
       "    }\n",
       "</style>\n",
       "<table border=\"1\" class=\"dataframe\">\n",
       "  <thead>\n",
       "    <tr style=\"text-align: right;\">\n",
       "      <th></th>\n",
       "      <th>col1</th>\n",
       "      <th>col2</th>\n",
       "      <th>col3</th>\n",
       "    </tr>\n",
       "  </thead>\n",
       "  <tbody>\n",
       "    <tr>\n",
       "      <th>row1</th>\n",
       "      <td>hariom</td>\n",
       "      <td>gaurisha</td>\n",
       "      <td>shreesha</td>\n",
       "    </tr>\n",
       "    <tr>\n",
       "      <th>row2</th>\n",
       "      <td>name1</td>\n",
       "      <td>science</td>\n",
       "      <td>physics</td>\n",
       "    </tr>\n",
       "    <tr>\n",
       "      <th>row3</th>\n",
       "      <td>name1</td>\n",
       "      <td>ai</td>\n",
       "      <td>ml</td>\n",
       "    </tr>\n",
       "  </tbody>\n",
       "</table>\n",
       "</div>"
      ],
      "text/plain": [
       "        col1      col2      col3\n",
       "row1  hariom  gaurisha  shreesha\n",
       "row2   name1   science   physics\n",
       "row3   name1        ai        ml"
      ]
     },
     "execution_count": 34,
     "metadata": {},
     "output_type": "execute_result"
    }
   ],
   "source": [
    "df2"
   ]
  },
  {
   "cell_type": "code",
   "execution_count": 35,
   "id": "bf133c26-af4b-4296-a71b-b656f8021d82",
   "metadata": {},
   "outputs": [],
   "source": [
    "df2.iloc[1,1] = 'maths'\n"
   ]
  },
  {
   "cell_type": "code",
   "execution_count": 36,
   "id": "6e7fc46b-4b3b-44dc-9cb8-2192342bf555",
   "metadata": {},
   "outputs": [
    {
     "data": {
      "text/html": [
       "<div>\n",
       "<style scoped>\n",
       "    .dataframe tbody tr th:only-of-type {\n",
       "        vertical-align: middle;\n",
       "    }\n",
       "\n",
       "    .dataframe tbody tr th {\n",
       "        vertical-align: top;\n",
       "    }\n",
       "\n",
       "    .dataframe thead th {\n",
       "        text-align: right;\n",
       "    }\n",
       "</style>\n",
       "<table border=\"1\" class=\"dataframe\">\n",
       "  <thead>\n",
       "    <tr style=\"text-align: right;\">\n",
       "      <th></th>\n",
       "      <th>col1</th>\n",
       "      <th>col2</th>\n",
       "      <th>col3</th>\n",
       "    </tr>\n",
       "  </thead>\n",
       "  <tbody>\n",
       "    <tr>\n",
       "      <th>row1</th>\n",
       "      <td>hariom</td>\n",
       "      <td>gaurisha</td>\n",
       "      <td>shreesha</td>\n",
       "    </tr>\n",
       "    <tr>\n",
       "      <th>row2</th>\n",
       "      <td>name1</td>\n",
       "      <td>maths</td>\n",
       "      <td>physics</td>\n",
       "    </tr>\n",
       "    <tr>\n",
       "      <th>row3</th>\n",
       "      <td>name1</td>\n",
       "      <td>ai</td>\n",
       "      <td>ml</td>\n",
       "    </tr>\n",
       "  </tbody>\n",
       "</table>\n",
       "</div>"
      ],
      "text/plain": [
       "        col1      col2      col3\n",
       "row1  hariom  gaurisha  shreesha\n",
       "row2   name1     maths   physics\n",
       "row3   name1        ai        ml"
      ]
     },
     "execution_count": 36,
     "metadata": {},
     "output_type": "execute_result"
    }
   ],
   "source": [
    "df2"
   ]
  },
  {
   "cell_type": "code",
   "execution_count": 37,
   "id": "e01d0de8-b6a6-4c8f-a570-42ee3b705d42",
   "metadata": {},
   "outputs": [],
   "source": [
    "df2.iloc[1,0] = 'cse'"
   ]
  },
  {
   "cell_type": "code",
   "execution_count": 38,
   "id": "dd6170e6-61d5-4fe4-93f2-cd0219aaf3d4",
   "metadata": {},
   "outputs": [
    {
     "data": {
      "text/html": [
       "<div>\n",
       "<style scoped>\n",
       "    .dataframe tbody tr th:only-of-type {\n",
       "        vertical-align: middle;\n",
       "    }\n",
       "\n",
       "    .dataframe tbody tr th {\n",
       "        vertical-align: top;\n",
       "    }\n",
       "\n",
       "    .dataframe thead th {\n",
       "        text-align: right;\n",
       "    }\n",
       "</style>\n",
       "<table border=\"1\" class=\"dataframe\">\n",
       "  <thead>\n",
       "    <tr style=\"text-align: right;\">\n",
       "      <th></th>\n",
       "      <th>col1</th>\n",
       "      <th>col2</th>\n",
       "      <th>col3</th>\n",
       "    </tr>\n",
       "  </thead>\n",
       "  <tbody>\n",
       "    <tr>\n",
       "      <th>row1</th>\n",
       "      <td>hariom</td>\n",
       "      <td>gaurisha</td>\n",
       "      <td>shreesha</td>\n",
       "    </tr>\n",
       "    <tr>\n",
       "      <th>row2</th>\n",
       "      <td>cse</td>\n",
       "      <td>maths</td>\n",
       "      <td>physics</td>\n",
       "    </tr>\n",
       "    <tr>\n",
       "      <th>row3</th>\n",
       "      <td>name1</td>\n",
       "      <td>ai</td>\n",
       "      <td>ml</td>\n",
       "    </tr>\n",
       "  </tbody>\n",
       "</table>\n",
       "</div>"
      ],
      "text/plain": [
       "        col1      col2      col3\n",
       "row1  hariom  gaurisha  shreesha\n",
       "row2     cse     maths   physics\n",
       "row3   name1        ai        ml"
      ]
     },
     "execution_count": 38,
     "metadata": {},
     "output_type": "execute_result"
    }
   ],
   "source": [
    "df2"
   ]
  },
  {
   "cell_type": "code",
   "execution_count": 39,
   "id": "0b47a790-609e-44be-a242-4005d0fbcf37",
   "metadata": {},
   "outputs": [],
   "source": [
    "df2.iloc[2,0] = 'ds'"
   ]
  },
  {
   "cell_type": "code",
   "execution_count": 40,
   "id": "a16b04a4-439a-465d-97ea-1f3e318534eb",
   "metadata": {},
   "outputs": [
    {
     "data": {
      "text/html": [
       "<div>\n",
       "<style scoped>\n",
       "    .dataframe tbody tr th:only-of-type {\n",
       "        vertical-align: middle;\n",
       "    }\n",
       "\n",
       "    .dataframe tbody tr th {\n",
       "        vertical-align: top;\n",
       "    }\n",
       "\n",
       "    .dataframe thead th {\n",
       "        text-align: right;\n",
       "    }\n",
       "</style>\n",
       "<table border=\"1\" class=\"dataframe\">\n",
       "  <thead>\n",
       "    <tr style=\"text-align: right;\">\n",
       "      <th></th>\n",
       "      <th>col1</th>\n",
       "      <th>col2</th>\n",
       "      <th>col3</th>\n",
       "    </tr>\n",
       "  </thead>\n",
       "  <tbody>\n",
       "    <tr>\n",
       "      <th>row1</th>\n",
       "      <td>hariom</td>\n",
       "      <td>gaurisha</td>\n",
       "      <td>shreesha</td>\n",
       "    </tr>\n",
       "    <tr>\n",
       "      <th>row2</th>\n",
       "      <td>cse</td>\n",
       "      <td>maths</td>\n",
       "      <td>physics</td>\n",
       "    </tr>\n",
       "    <tr>\n",
       "      <th>row3</th>\n",
       "      <td>ds</td>\n",
       "      <td>ai</td>\n",
       "      <td>ml</td>\n",
       "    </tr>\n",
       "  </tbody>\n",
       "</table>\n",
       "</div>"
      ],
      "text/plain": [
       "        col1      col2      col3\n",
       "row1  hariom  gaurisha  shreesha\n",
       "row2     cse     maths   physics\n",
       "row3      ds        ai        ml"
      ]
     },
     "execution_count": 40,
     "metadata": {},
     "output_type": "execute_result"
    }
   ],
   "source": [
    "df2"
   ]
  },
  {
   "cell_type": "code",
   "execution_count": 43,
   "id": "ea235f2b-83cb-426b-b97d-1e807522808d",
   "metadata": {},
   "outputs": [
    {
     "ename": "NameError",
     "evalue": "name 'jsonData' is not defined",
     "output_type": "error",
     "traceback": [
      "\u001b[1;31m---------------------------------------------------------------------------\u001b[0m",
      "\u001b[1;31mNameError\u001b[0m                                 Traceback (most recent call last)",
      "Cell \u001b[1;32mIn[43], line 1\u001b[0m\n\u001b[1;32m----> 1\u001b[0m \u001b[43mjsonData\u001b[49m\n",
      "\u001b[1;31mNameError\u001b[0m: name 'jsonData' is not defined"
     ]
    }
   ],
   "source": [
    "jsonData"
   ]
  },
  {
   "cell_type": "code",
   "execution_count": 46,
   "id": "23120a48-a537-4f4f-bb4e-e997d3651029",
   "metadata": {},
   "outputs": [
    {
     "data": {
      "text/html": [
       "<div>\n",
       "<style scoped>\n",
       "    .dataframe tbody tr th:only-of-type {\n",
       "        vertical-align: middle;\n",
       "    }\n",
       "\n",
       "    .dataframe tbody tr th {\n",
       "        vertical-align: top;\n",
       "    }\n",
       "\n",
       "    .dataframe thead th {\n",
       "        text-align: right;\n",
       "    }\n",
       "</style>\n",
       "<table border=\"1\" class=\"dataframe\">\n",
       "  <thead>\n",
       "    <tr style=\"text-align: right;\">\n",
       "      <th></th>\n",
       "      <th>col1</th>\n",
       "      <th>col2</th>\n",
       "      <th>col3</th>\n",
       "    </tr>\n",
       "  </thead>\n",
       "  <tbody>\n",
       "    <tr>\n",
       "      <th>row1</th>\n",
       "      <td>hariom</td>\n",
       "      <td>gaurisha</td>\n",
       "      <td>shreesha</td>\n",
       "    </tr>\n",
       "    <tr>\n",
       "      <th>row2</th>\n",
       "      <td>cse</td>\n",
       "      <td>maths</td>\n",
       "      <td>physics</td>\n",
       "    </tr>\n",
       "    <tr>\n",
       "      <th>row3</th>\n",
       "      <td>ds</td>\n",
       "      <td>ai</td>\n",
       "      <td>ml</td>\n",
       "    </tr>\n",
       "  </tbody>\n",
       "</table>\n",
       "</div>"
      ],
      "text/plain": [
       "        col1      col2      col3\n",
       "row1  hariom  gaurisha  shreesha\n",
       "row2     cse     maths   physics\n",
       "row3      ds        ai        ml"
      ]
     },
     "execution_count": 46,
     "metadata": {},
     "output_type": "execute_result"
    }
   ],
   "source": [
    "df2"
   ]
  },
  {
   "cell_type": "code",
   "execution_count": 47,
   "id": "c5a6bb95-51b4-4890-b966-ca64ec8d7e68",
   "metadata": {},
   "outputs": [],
   "source": [
    "jsonData = df2.to_json()"
   ]
  },
  {
   "cell_type": "code",
   "execution_count": 48,
   "id": "fdef7078-183e-4c6d-ba1b-6261eb220315",
   "metadata": {},
   "outputs": [
    {
     "data": {
      "text/plain": [
       "'{\"col1\":{\"row1\":\"hariom\",\"row2\":\"cse\",\"row3\":\"ds\"},\"col2\":{\"row1\":\"gaurisha\",\"row2\":\"maths\",\"row3\":\"ai\"},\"col3\":{\"row1\":\"shreesha\",\"row2\":\"physics\",\"row3\":\"ml\"}}'"
      ]
     },
     "execution_count": 48,
     "metadata": {},
     "output_type": "execute_result"
    }
   ],
   "source": [
    "jsonData\n"
   ]
  },
  {
   "cell_type": "code",
   "execution_count": 57,
   "id": "0caeb50e-5cf0-4761-93aa-8aa3827003d1",
   "metadata": {},
   "outputs": [],
   "source": [
    "jsondata2 = [\n",
    "    {\n",
    "        \"col1\": {\n",
    "            \"row1\": \"hariom\",\n",
    "            \"row2\": \"cse\",\n",
    "            \"row3\": \"ds\",\n",
    "            \"jobProfile\": {\n",
    "                \"role1\": \"sde\",\n",
    "                \"role2\": \"sde2\"\n",
    "            }\n",
    "        }\n",
    "    },\n",
    "    {\n",
    "        \"col2\": {\n",
    "            \"row1\": \"gaurisha\",\n",
    "            \"row2\": \"maths\",\n",
    "            \"row3\": \"ai\",\n",
    "            \"jobProfile\": {\n",
    "                \"role1\": \"sde\",\n",
    "                \"role2\": \"sde2\"\n",
    "            }\n",
    "        }\n",
    "    },\n",
    "    {\n",
    "        \"col3\": {\n",
    "            \"row1\": \"shreesha\",\n",
    "            \"row2\": \"physics\",\n",
    "            \"row3\": \"ml\",\n",
    "            \"jobProfile\": {\n",
    "                \"role1\": \"sde\",\n",
    "                \"role2\": \"sde2\"\n",
    "            }\n",
    "        }\n",
    "    }\n",
    "]"
   ]
  },
  {
   "cell_type": "code",
   "execution_count": 58,
   "id": "649d04fa-7b20-4f31-9a3f-02f72b2671cb",
   "metadata": {},
   "outputs": [
    {
     "data": {
      "text/plain": [
       "[{'col1': {'row1': 'hariom',\n",
       "   'row2': 'cse',\n",
       "   'row3': 'ds',\n",
       "   'jobProfile': {'role1': 'sde', 'role2': 'sde2'}}},\n",
       " {'col2': {'row1': 'gaurisha',\n",
       "   'row2': 'maths',\n",
       "   'row3': 'ai',\n",
       "   'jobProfile': {'role1': 'sde', 'role2': 'sde2'}}},\n",
       " {'col3': {'row1': 'shreesha',\n",
       "   'row2': 'physics',\n",
       "   'row3': 'ml',\n",
       "   'jobProfile': {'role1': 'sde', 'role2': 'sde2'}}}]"
      ]
     },
     "execution_count": 58,
     "metadata": {},
     "output_type": "execute_result"
    }
   ],
   "source": [
    "jsondata2"
   ]
  },
  {
   "cell_type": "code",
   "execution_count": 53,
   "id": "5bf2041c-16c3-40c0-899b-01b8c8308017",
   "metadata": {},
   "outputs": [
    {
     "data": {
      "text/html": [
       "<div>\n",
       "<style scoped>\n",
       "    .dataframe tbody tr th:only-of-type {\n",
       "        vertical-align: middle;\n",
       "    }\n",
       "\n",
       "    .dataframe tbody tr th {\n",
       "        vertical-align: top;\n",
       "    }\n",
       "\n",
       "    .dataframe thead th {\n",
       "        text-align: right;\n",
       "    }\n",
       "</style>\n",
       "<table border=\"1\" class=\"dataframe\">\n",
       "  <thead>\n",
       "    <tr style=\"text-align: right;\">\n",
       "      <th></th>\n",
       "      <th>col1</th>\n",
       "      <th>col2</th>\n",
       "      <th>col3</th>\n",
       "    </tr>\n",
       "  </thead>\n",
       "  <tbody>\n",
       "    <tr>\n",
       "      <th>row1</th>\n",
       "      <td>hariom</td>\n",
       "      <td>gaurisha</td>\n",
       "      <td>shreesha</td>\n",
       "    </tr>\n",
       "    <tr>\n",
       "      <th>row2</th>\n",
       "      <td>cse</td>\n",
       "      <td>maths</td>\n",
       "      <td>physics</td>\n",
       "    </tr>\n",
       "    <tr>\n",
       "      <th>row3</th>\n",
       "      <td>ds</td>\n",
       "      <td>ai</td>\n",
       "      <td>ml</td>\n",
       "    </tr>\n",
       "  </tbody>\n",
       "</table>\n",
       "</div>"
      ],
      "text/plain": [
       "        col1      col2      col3\n",
       "row1  hariom  gaurisha  shreesha\n",
       "row2     cse     maths   physics\n",
       "row3      ds        ai        ml"
      ]
     },
     "execution_count": 53,
     "metadata": {},
     "output_type": "execute_result"
    }
   ],
   "source": [
    "df2"
   ]
  },
  {
   "cell_type": "code",
   "execution_count": 60,
   "id": "4d9d2a9b-dd83-40bb-a81f-ac588e088557",
   "metadata": {},
   "outputs": [
    {
     "data": {
      "text/plain": [
       "list"
      ]
     },
     "execution_count": 60,
     "metadata": {},
     "output_type": "execute_result"
    }
   ],
   "source": [
    "type(jsondata2)"
   ]
  },
  {
   "cell_type": "code",
   "execution_count": 61,
   "id": "ad2cba47-5ea3-4bfb-a825-0a77fb40dfbb",
   "metadata": {},
   "outputs": [],
   "source": [
    "data3 = pd.json_normalize(jsondata2)"
   ]
  },
  {
   "cell_type": "code",
   "execution_count": 62,
   "id": "0bf69220-22b4-4ec2-93d3-c7d0a68353fe",
   "metadata": {},
   "outputs": [
    {
     "data": {
      "text/html": [
       "<div>\n",
       "<style scoped>\n",
       "    .dataframe tbody tr th:only-of-type {\n",
       "        vertical-align: middle;\n",
       "    }\n",
       "\n",
       "    .dataframe tbody tr th {\n",
       "        vertical-align: top;\n",
       "    }\n",
       "\n",
       "    .dataframe thead th {\n",
       "        text-align: right;\n",
       "    }\n",
       "</style>\n",
       "<table border=\"1\" class=\"dataframe\">\n",
       "  <thead>\n",
       "    <tr style=\"text-align: right;\">\n",
       "      <th></th>\n",
       "      <th>col1.row1</th>\n",
       "      <th>col1.row2</th>\n",
       "      <th>col1.row3</th>\n",
       "      <th>col1.jobProfile.role1</th>\n",
       "      <th>col1.jobProfile.role2</th>\n",
       "      <th>col2.row1</th>\n",
       "      <th>col2.row2</th>\n",
       "      <th>col2.row3</th>\n",
       "      <th>col2.jobProfile.role1</th>\n",
       "      <th>col2.jobProfile.role2</th>\n",
       "      <th>col3.row1</th>\n",
       "      <th>col3.row2</th>\n",
       "      <th>col3.row3</th>\n",
       "      <th>col3.jobProfile.role1</th>\n",
       "      <th>col3.jobProfile.role2</th>\n",
       "    </tr>\n",
       "  </thead>\n",
       "  <tbody>\n",
       "    <tr>\n",
       "      <th>0</th>\n",
       "      <td>hariom</td>\n",
       "      <td>cse</td>\n",
       "      <td>ds</td>\n",
       "      <td>sde</td>\n",
       "      <td>sde2</td>\n",
       "      <td>NaN</td>\n",
       "      <td>NaN</td>\n",
       "      <td>NaN</td>\n",
       "      <td>NaN</td>\n",
       "      <td>NaN</td>\n",
       "      <td>NaN</td>\n",
       "      <td>NaN</td>\n",
       "      <td>NaN</td>\n",
       "      <td>NaN</td>\n",
       "      <td>NaN</td>\n",
       "    </tr>\n",
       "    <tr>\n",
       "      <th>1</th>\n",
       "      <td>NaN</td>\n",
       "      <td>NaN</td>\n",
       "      <td>NaN</td>\n",
       "      <td>NaN</td>\n",
       "      <td>NaN</td>\n",
       "      <td>gaurisha</td>\n",
       "      <td>maths</td>\n",
       "      <td>ai</td>\n",
       "      <td>sde</td>\n",
       "      <td>sde2</td>\n",
       "      <td>NaN</td>\n",
       "      <td>NaN</td>\n",
       "      <td>NaN</td>\n",
       "      <td>NaN</td>\n",
       "      <td>NaN</td>\n",
       "    </tr>\n",
       "    <tr>\n",
       "      <th>2</th>\n",
       "      <td>NaN</td>\n",
       "      <td>NaN</td>\n",
       "      <td>NaN</td>\n",
       "      <td>NaN</td>\n",
       "      <td>NaN</td>\n",
       "      <td>NaN</td>\n",
       "      <td>NaN</td>\n",
       "      <td>NaN</td>\n",
       "      <td>NaN</td>\n",
       "      <td>NaN</td>\n",
       "      <td>shreesha</td>\n",
       "      <td>physics</td>\n",
       "      <td>ml</td>\n",
       "      <td>sde</td>\n",
       "      <td>sde2</td>\n",
       "    </tr>\n",
       "  </tbody>\n",
       "</table>\n",
       "</div>"
      ],
      "text/plain": [
       "  col1.row1 col1.row2 col1.row3 col1.jobProfile.role1 col1.jobProfile.role2  \\\n",
       "0    hariom       cse        ds                   sde                  sde2   \n",
       "1       NaN       NaN       NaN                   NaN                   NaN   \n",
       "2       NaN       NaN       NaN                   NaN                   NaN   \n",
       "\n",
       "  col2.row1 col2.row2 col2.row3 col2.jobProfile.role1 col2.jobProfile.role2  \\\n",
       "0       NaN       NaN       NaN                   NaN                   NaN   \n",
       "1  gaurisha     maths        ai                   sde                  sde2   \n",
       "2       NaN       NaN       NaN                   NaN                   NaN   \n",
       "\n",
       "  col3.row1 col3.row2 col3.row3 col3.jobProfile.role1 col3.jobProfile.role2  \n",
       "0       NaN       NaN       NaN                   NaN                   NaN  \n",
       "1       NaN       NaN       NaN                   NaN                   NaN  \n",
       "2  shreesha   physics        ml                   sde                  sde2  "
      ]
     },
     "execution_count": 62,
     "metadata": {},
     "output_type": "execute_result"
    }
   ],
   "source": [
    "data3"
   ]
  },
  {
   "cell_type": "code",
   "execution_count": 63,
   "id": "c087898c-1d73-4d61-a7d0-94116fe5286e",
   "metadata": {},
   "outputs": [
    {
     "data": {
      "text/plain": [
       "[{'col1': {'row1': 'hariom',\n",
       "   'row2': 'cse',\n",
       "   'row3': 'ds',\n",
       "   'jobProfile': {'role1': 'sde', 'role2': 'sde2'}}},\n",
       " {'col2': {'row1': 'gaurisha',\n",
       "   'row2': 'maths',\n",
       "   'row3': 'ai',\n",
       "   'jobProfile': {'role1': 'sde', 'role2': 'sde2'}}},\n",
       " {'col3': {'row1': 'shreesha',\n",
       "   'row2': 'physics',\n",
       "   'row3': 'ml',\n",
       "   'jobProfile': {'role1': 'sde', 'role2': 'sde2'}}}]"
      ]
     },
     "execution_count": 63,
     "metadata": {},
     "output_type": "execute_result"
    }
   ],
   "source": [
    "jsondata2"
   ]
  },
  {
   "cell_type": "code",
   "execution_count": 67,
   "id": "31fbe456-e081-4dd3-88e5-6aa4ba552a36",
   "metadata": {},
   "outputs": [],
   "source": [
    "newjsondata = [\n",
    "  {\n",
    "    \"row1\": {\n",
    "      \"col1\": \"hariom\",\n",
    "      \"col2\": \"cse\",\n",
    "      \"col3\": \"ds\",\n",
    "      \"jobProfile\": {\n",
    "        \"role1\": \"sde\",\n",
    "        \"role2\": \"sde2\"\n",
    "      }\n",
    "    }\n",
    "  },\n",
    "  {\n",
    "    \"row2\": {\n",
    "      \"col1\": \"gaurisha\",\n",
    "      \"col2\": \"maths\",\n",
    "      \"col3\": \"ai\",\n",
    "      \"jobProfile\": {\n",
    "        \"role1\": \"sde\",\n",
    "        \"role2\": \"sde2\"\n",
    "      }\n",
    "    }\n",
    "  },\n",
    "  {\n",
    "    \"row3\": {\n",
    "      \"col1\": \"shreesha\",\n",
    "      \"col2\": \"physics\",\n",
    "      \"col3\": \"ml\",\n",
    "      \"jobProfile\": {\n",
    "        \"role1\": \"sde\",\n",
    "        \"role2\": \"sde2\"\n",
    "      }\n",
    "    }\n",
    "  }\n",
    "]\n"
   ]
  },
  {
   "cell_type": "code",
   "execution_count": 68,
   "id": "62020b29-87a5-4f4d-ae6b-46ec526337b3",
   "metadata": {},
   "outputs": [
    {
     "data": {
      "text/plain": [
       "[{'row1': {'col1': 'hariom',\n",
       "   'col2': 'cse',\n",
       "   'col3': 'ds',\n",
       "   'jobProfile': {'role1': 'sde', 'role2': 'sde2'}}},\n",
       " {'row2': {'col1': 'gaurisha',\n",
       "   'col2': 'maths',\n",
       "   'col3': 'ai',\n",
       "   'jobProfile': {'role1': 'sde', 'role2': 'sde2'}}},\n",
       " {'row3': {'col1': 'shreesha',\n",
       "   'col2': 'physics',\n",
       "   'col3': 'ml',\n",
       "   'jobProfile': {'role1': 'sde', 'role2': 'sde2'}}}]"
      ]
     },
     "execution_count": 68,
     "metadata": {},
     "output_type": "execute_result"
    }
   ],
   "source": [
    "newjsondata"
   ]
  },
  {
   "cell_type": "code",
   "execution_count": 69,
   "id": "865264e0-1ae4-4253-b2db-e083f842cdf1",
   "metadata": {},
   "outputs": [],
   "source": [
    "normaldata = pd.json_normalize(newjsondata)"
   ]
  },
  {
   "cell_type": "code",
   "execution_count": 70,
   "id": "0b27de0d-dc59-491e-84a8-51a422049999",
   "metadata": {},
   "outputs": [
    {
     "data": {
      "text/html": [
       "<div>\n",
       "<style scoped>\n",
       "    .dataframe tbody tr th:only-of-type {\n",
       "        vertical-align: middle;\n",
       "    }\n",
       "\n",
       "    .dataframe tbody tr th {\n",
       "        vertical-align: top;\n",
       "    }\n",
       "\n",
       "    .dataframe thead th {\n",
       "        text-align: right;\n",
       "    }\n",
       "</style>\n",
       "<table border=\"1\" class=\"dataframe\">\n",
       "  <thead>\n",
       "    <tr style=\"text-align: right;\">\n",
       "      <th></th>\n",
       "      <th>row1.col1</th>\n",
       "      <th>row1.col2</th>\n",
       "      <th>row1.col3</th>\n",
       "      <th>row1.jobProfile.role1</th>\n",
       "      <th>row1.jobProfile.role2</th>\n",
       "      <th>row2.col1</th>\n",
       "      <th>row2.col2</th>\n",
       "      <th>row2.col3</th>\n",
       "      <th>row2.jobProfile.role1</th>\n",
       "      <th>row2.jobProfile.role2</th>\n",
       "      <th>row3.col1</th>\n",
       "      <th>row3.col2</th>\n",
       "      <th>row3.col3</th>\n",
       "      <th>row3.jobProfile.role1</th>\n",
       "      <th>row3.jobProfile.role2</th>\n",
       "    </tr>\n",
       "  </thead>\n",
       "  <tbody>\n",
       "    <tr>\n",
       "      <th>0</th>\n",
       "      <td>hariom</td>\n",
       "      <td>cse</td>\n",
       "      <td>ds</td>\n",
       "      <td>sde</td>\n",
       "      <td>sde2</td>\n",
       "      <td>NaN</td>\n",
       "      <td>NaN</td>\n",
       "      <td>NaN</td>\n",
       "      <td>NaN</td>\n",
       "      <td>NaN</td>\n",
       "      <td>NaN</td>\n",
       "      <td>NaN</td>\n",
       "      <td>NaN</td>\n",
       "      <td>NaN</td>\n",
       "      <td>NaN</td>\n",
       "    </tr>\n",
       "    <tr>\n",
       "      <th>1</th>\n",
       "      <td>NaN</td>\n",
       "      <td>NaN</td>\n",
       "      <td>NaN</td>\n",
       "      <td>NaN</td>\n",
       "      <td>NaN</td>\n",
       "      <td>gaurisha</td>\n",
       "      <td>maths</td>\n",
       "      <td>ai</td>\n",
       "      <td>sde</td>\n",
       "      <td>sde2</td>\n",
       "      <td>NaN</td>\n",
       "      <td>NaN</td>\n",
       "      <td>NaN</td>\n",
       "      <td>NaN</td>\n",
       "      <td>NaN</td>\n",
       "    </tr>\n",
       "    <tr>\n",
       "      <th>2</th>\n",
       "      <td>NaN</td>\n",
       "      <td>NaN</td>\n",
       "      <td>NaN</td>\n",
       "      <td>NaN</td>\n",
       "      <td>NaN</td>\n",
       "      <td>NaN</td>\n",
       "      <td>NaN</td>\n",
       "      <td>NaN</td>\n",
       "      <td>NaN</td>\n",
       "      <td>NaN</td>\n",
       "      <td>shreesha</td>\n",
       "      <td>physics</td>\n",
       "      <td>ml</td>\n",
       "      <td>sde</td>\n",
       "      <td>sde2</td>\n",
       "    </tr>\n",
       "  </tbody>\n",
       "</table>\n",
       "</div>"
      ],
      "text/plain": [
       "  row1.col1 row1.col2 row1.col3 row1.jobProfile.role1 row1.jobProfile.role2  \\\n",
       "0    hariom       cse        ds                   sde                  sde2   \n",
       "1       NaN       NaN       NaN                   NaN                   NaN   \n",
       "2       NaN       NaN       NaN                   NaN                   NaN   \n",
       "\n",
       "  row2.col1 row2.col2 row2.col3 row2.jobProfile.role1 row2.jobProfile.role2  \\\n",
       "0       NaN       NaN       NaN                   NaN                   NaN   \n",
       "1  gaurisha     maths        ai                   sde                  sde2   \n",
       "2       NaN       NaN       NaN                   NaN                   NaN   \n",
       "\n",
       "  row3.col1 row3.col2 row3.col3 row3.jobProfile.role1 row3.jobProfile.role2  \n",
       "0       NaN       NaN       NaN                   NaN                   NaN  \n",
       "1       NaN       NaN       NaN                   NaN                   NaN  \n",
       "2  shreesha   physics        ml                   sde                  sde2  "
      ]
     },
     "execution_count": 70,
     "metadata": {},
     "output_type": "execute_result"
    }
   ],
   "source": [
    "normaldata"
   ]
  },
  {
   "cell_type": "code",
   "execution_count": 71,
   "id": "c8f4e7a7-472c-4a6e-803d-f337474f8e7b",
   "metadata": {},
   "outputs": [],
   "source": [
    "realjsondata = [\n",
    "  {\n",
    "    \"id\": 1,\n",
    "    \"name\": \"Cole Volk\",\n",
    "    \"fitness\": {\n",
    "      \"height\": 130,\n",
    "      \"weight\": 60\n",
    "    }\n",
    "  },\n",
    "  {\n",
    "    \"name\": \"Mark Reg\",\n",
    "    \"fitness\": {\n",
    "      \"height\": 130,\n",
    "      \"weight\": 60\n",
    "    }\n",
    "  },\n",
    "  {\n",
    "    \"id\": 2,\n",
    "    \"name\": \"Faye Raker\",\n",
    "    \"fitness\": {\n",
    "      \"height\": 130,\n",
    "      \"weight\": 60\n",
    "    }\n",
    "  }\n",
    "]\n"
   ]
  },
  {
   "cell_type": "code",
   "execution_count": 72,
   "id": "07b1f2ad-cea9-4baa-afae-0451c66d3116",
   "metadata": {},
   "outputs": [
    {
     "data": {
      "text/plain": [
       "[{'id': 1, 'name': 'Cole Volk', 'fitness': {'height': 130, 'weight': 60}},\n",
       " {'name': 'Mark Reg', 'fitness': {'height': 130, 'weight': 60}},\n",
       " {'id': 2, 'name': 'Faye Raker', 'fitness': {'height': 130, 'weight': 60}}]"
      ]
     },
     "execution_count": 72,
     "metadata": {},
     "output_type": "execute_result"
    }
   ],
   "source": [
    "realjsondata\n"
   ]
  },
  {
   "cell_type": "code",
   "execution_count": 81,
   "id": "eb346d1b-ce1c-4918-a9a0-07847c04f578",
   "metadata": {},
   "outputs": [],
   "source": [
    "normaldata = pd.json_normalize(realjsondata,max_level=1)"
   ]
  },
  {
   "cell_type": "code",
   "execution_count": 79,
   "id": "1d9df270-dc53-4e3d-8e68-4a8847574694",
   "metadata": {},
   "outputs": [
    {
     "data": {
      "text/html": [
       "<div>\n",
       "<style scoped>\n",
       "    .dataframe tbody tr th:only-of-type {\n",
       "        vertical-align: middle;\n",
       "    }\n",
       "\n",
       "    .dataframe tbody tr th {\n",
       "        vertical-align: top;\n",
       "    }\n",
       "\n",
       "    .dataframe thead th {\n",
       "        text-align: right;\n",
       "    }\n",
       "</style>\n",
       "<table border=\"1\" class=\"dataframe\">\n",
       "  <thead>\n",
       "    <tr style=\"text-align: right;\">\n",
       "      <th></th>\n",
       "      <th>id</th>\n",
       "      <th>name</th>\n",
       "      <th>fitness.height</th>\n",
       "      <th>fitness.weight</th>\n",
       "    </tr>\n",
       "  </thead>\n",
       "  <tbody>\n",
       "    <tr>\n",
       "      <th>0</th>\n",
       "      <td>1.0</td>\n",
       "      <td>Cole Volk</td>\n",
       "      <td>130</td>\n",
       "      <td>60</td>\n",
       "    </tr>\n",
       "    <tr>\n",
       "      <th>1</th>\n",
       "      <td>NaN</td>\n",
       "      <td>Mark Reg</td>\n",
       "      <td>130</td>\n",
       "      <td>60</td>\n",
       "    </tr>\n",
       "    <tr>\n",
       "      <th>2</th>\n",
       "      <td>2.0</td>\n",
       "      <td>Faye Raker</td>\n",
       "      <td>130</td>\n",
       "      <td>60</td>\n",
       "    </tr>\n",
       "  </tbody>\n",
       "</table>\n",
       "</div>"
      ],
      "text/plain": [
       "    id        name  fitness.height  fitness.weight\n",
       "0  1.0   Cole Volk             130              60\n",
       "1  NaN    Mark Reg             130              60\n",
       "2  2.0  Faye Raker             130              60"
      ]
     },
     "execution_count": 79,
     "metadata": {},
     "output_type": "execute_result"
    }
   ],
   "source": [
    "normaldata"
   ]
  },
  {
   "cell_type": "code",
   "execution_count": null,
   "id": "227813b1-6940-4d3d-9989-a47c465e3bfd",
   "metadata": {},
   "outputs": [],
   "source": []
  }
 ],
 "metadata": {
  "kernelspec": {
   "display_name": "Python 3 (ipykernel)",
   "language": "python",
   "name": "python3"
  },
  "language_info": {
   "codemirror_mode": {
    "name": "ipython",
    "version": 3
   },
   "file_extension": ".py",
   "mimetype": "text/x-python",
   "name": "python",
   "nbconvert_exporter": "python",
   "pygments_lexer": "ipython3",
   "version": "3.13.0"
  }
 },
 "nbformat": 4,
 "nbformat_minor": 5
}
